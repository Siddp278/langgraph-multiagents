{
 "cells": [
  {
   "cell_type": "code",
   "execution_count": 47,
   "id": "bdd5cffc",
   "metadata": {},
   "outputs": [],
   "source": [
    "from typing import Annotated\n",
    "from typing_extensions import TypedDict\n",
    "\n",
    "from langgraph.graph import StateGraph, START, END\n",
    "from langgraph.graph.message import add_messages\n",
    "\n",
    "from langchain_openai import AzureChatOpenAI\n",
    "from langchain_core.tools import tool\n",
    "from langchain_tavily import TavilySearch\n",
    "from langgraph.prebuilt import ToolNode, tools_condition\n",
    "from langgraph.checkpoint.memory import MemorySaver\n",
    "from langgraph.types import Command, interrupt\n",
    "\n",
    "from dotenv import load_dotenv\n",
    "import os\n",
    "import uuid"
   ]
  },
  {
   "cell_type": "code",
   "execution_count": 2,
   "id": "7b160e4b",
   "metadata": {},
   "outputs": [],
   "source": [
    "class State(TypedDict):\n",
    "    messages: Annotated[list, add_messages]"
   ]
  },
  {
   "cell_type": "code",
   "execution_count": 3,
   "id": "21e414cd",
   "metadata": {},
   "outputs": [],
   "source": [
    "graph_builder = StateGraph(State)"
   ]
  },
  {
   "cell_type": "code",
   "execution_count": 4,
   "id": "1e7ebf7c",
   "metadata": {},
   "outputs": [
    {
     "data": {
      "text/plain": [
       "True"
      ]
     },
     "execution_count": 4,
     "metadata": {},
     "output_type": "execute_result"
    }
   ],
   "source": [
    "load_dotenv()"
   ]
  },
  {
   "cell_type": "code",
   "execution_count": 5,
   "id": "2297802d",
   "metadata": {},
   "outputs": [],
   "source": [
    "model = AzureChatOpenAI(\n",
    "    api_key=os.getenv(\"AZURE_OPENAI_CHATGPT_DEPLOYMENT\"),\n",
    "    api_version=\"2024-12-01-preview\",\n",
    "    temperature=0.7,\n",
    "    model_name=\"gpt-4o\",\n",
    "    azure_endpoint=os.getenv(\"AZURE_OPENAI_SERVICE\")\n",
    ")"
   ]
  },
  {
   "cell_type": "code",
   "execution_count": 6,
   "id": "cb5957f2",
   "metadata": {},
   "outputs": [],
   "source": [
    "def chatbot(input_state: State):\n",
    "    # Note the output_state is of same Schema as input_state here\n",
    "    return {\"messages\": [\n",
    "        model.invoke(input_state[\"messages\"])\n",
    "    ]}"
   ]
  },
  {
   "cell_type": "code",
   "execution_count": 7,
   "id": "3d038a44",
   "metadata": {},
   "outputs": [],
   "source": [
    "# Building the graph using the StateGraph defined\n",
    "graph_builder.add_node(\"MyChatbot\", chatbot)\n",
    "graph_builder.add_edge(START, \"MyChatbot\") # START -> MyChatbot node\n",
    "graph_builder.add_edge(\"MyChatbot\", END)\n",
    "\n",
    "# Compiling the graph\n",
    "graph = graph_builder.compile()"
   ]
  },
  {
   "cell_type": "code",
   "execution_count": 8,
   "id": "8be6228c",
   "metadata": {},
   "outputs": [
    {
     "data": {
      "image/png": "[encoded data removed]",
      "text/plain": [
       "<IPython.core.display.Image object>"
      ]
     },
     "metadata": {},
     "output_type": "display_data"
    }
   ],
   "source": [
    "## Visualize the graph\n",
    "from IPython.display import Image,display\n",
    "\n",
    "try:\n",
    "    display(Image(graph.get_graph().draw_mermaid_png()))\n",
    "except Exception as e:\n",
    "    print(f\"Error occurred: {e}\")"
   ]
  },
  {
   "cell_type": "code",
   "execution_count": 9,
   "id": "2672af26",
   "metadata": {},
   "outputs": [
    {
     "data": {
      "text/plain": [
       "'Hello! 😊 How can I assist you today?'"
      ]
     },
     "execution_count": 9,
     "metadata": {},
     "output_type": "execute_result"
    }
   ],
   "source": [
    "# Running the application through Graph\n",
    "chat = graph.invoke({\"messages\": [\"Hello there!\"]})\n",
    "\n",
    "chat[\"messages\"][-1].content"
   ]
  },
  {
   "cell_type": "code",
   "execution_count": 10,
   "id": "67049b8d",
   "metadata": {},
   "outputs": [
    {
     "data": {
      "text/plain": [
       "{'query': 'Who won the last FIFA world cup?',\n",
       " 'follow_up_questions': None,\n",
       " 'answer': None,\n",
       " 'images': [],\n",
       " 'results': [{'url': 'https://en.wikipedia.org/wiki/FIFA_World_Cup',\n",
       "   'title': 'FIFA World Cup - Wikipedia',\n",
       "   'content': 'The reigning champions are Argentina, who won their third title at the 2022 World Cup by defeating France. ... Selection process. A map of FIFA World Cup final',\n",
       "   'score': 0.7368747,\n",
       "   'raw_content': None},\n",
       "  {'url': 'https://www.foxsports.com/soccer/fifa-world-cup/history',\n",
       "   'title': \"FIFA Men's World Cup Winners List - FOX Sports\",\n",
       "   'content': \"# FIFA World Cup 2026 History Fifa Men's 2026 World Cup | 1990 | West Germany Flag West Germany |  | Argentina Flag Argentina |  | Italy Flag Italy | Host Country | Argentina Flag France Flag France Flag Germany Flag Argentina Flag Germany Flag Italy Flag France Flag Germany Flag Brazil Flag Germany Flag France Flag Brazil Flag Brazil Flag Italy Flag West Germany Flag Argentina Flag Italy Flag Argentina Flag West Germany Flag France Flag Italy Flag West Germany Flag Argentina Flag Brazil Flag West Germany Flag Brazil Flag Italy Flag West Germany Flag West Germany Flag Brazil Flag Brazil Flag France Flag West Germany Flag Brazil Flag Italy Flag Brazil Flag Italy Flag Germany Flag Argentina Flag FOX Sports 2025 Gold Cup Image  2026 FIFA WORLD CUP Image\",\n",
       "   'score': 0.4562407,\n",
       "   'raw_content': None}],\n",
       " 'response_time': 1.51}"
      ]
     },
     "execution_count": 10,
     "metadata": {},
     "output_type": "execute_result"
    }
   ],
   "source": [
    "search_tool = TavilySearch(max_results=2, tavily_api_key=os.getenv(\"TAVILY_API_KEY\"))\n",
    "search_tool.invoke(\"Who won the last FIFA world cup?\")"
   ]
  },
  {
   "cell_type": "code",
   "execution_count": 11,
   "id": "c4bcb09a",
   "metadata": {},
   "outputs": [],
   "source": [
    "# Adding another tool\n",
    "def multiply_tool(a:int,b:int)->int:\n",
    "    \"\"\"Multiply a and b\n",
    "\n",
    "    Args:\n",
    "        a (int): first int\n",
    "        b (int): second int\n",
    "\n",
    "    Returns:\n",
    "        int: output int\n",
    "    \"\"\"\n",
    "    return a*b"
   ]
  },
  {
   "cell_type": "code",
   "execution_count": 12,
   "id": "14503b2c",
   "metadata": {},
   "outputs": [],
   "source": [
    "# Getting list of tools we have in our arsenal\n",
    "tools = [search_tool, multiply_tool]\n",
    "\n",
    "# Binding tools to my LLM\n",
    "model_with_tools = model.bind_tools(tools)"
   ]
  },
  {
   "cell_type": "code",
   "execution_count": 17,
   "id": "310c7a9b",
   "metadata": {},
   "outputs": [
    {
     "data": {
      "text/plain": [
       "<langgraph.graph.state.StateGraph at 0x117b8c0e0>"
      ]
     },
     "execution_count": 17,
     "metadata": {},
     "output_type": "execute_result"
    }
   ],
   "source": [
    "# Building a new graph\n",
    "def model_with_tools_function(input_state: State):\n",
    "    return {\"messages\": [\n",
    "        model_with_tools.invoke(input_state[\"messages\"])\n",
    "    ]}\n",
    "\n",
    "\n",
    "graph_builder = StateGraph(State)\n",
    "graph_builder.add_node(\"LLMWithTools\", model_with_tools_function)\n",
    "graph_builder.add_node(\"tools\", ToolNode(tools)) # we have prebuilt node (no need to create a function and reference here)\n",
    "\n",
    "\n",
    "graph_builder.add_edge(START, \"LLMWithTools\")\n",
    "graph_builder.add_conditional_edges(\n",
    "    \"LLMWithTools\",\n",
    "    # If the latest message (result) from assistant is a tool call -> tools_condition routes to tools\n",
    "    # If the latest message (result) from assistant is a not a tool call -> tools_condition routes to END\n",
    "    tools_condition\n",
    ")\n",
    "graph_builder.add_edge(\"tools\", END)"
   ]
  },
  {
   "cell_type": "code",
   "execution_count": 18,
   "id": "982c1403",
   "metadata": {},
   "outputs": [],
   "source": [
    "graph = graph_builder.compile()"
   ]
  },
  {
   "cell_type": "code",
   "execution_count": 19,
   "id": "98e6d1ac",
   "metadata": {},
   "outputs": [
    {
     "data": {
      "image/png": "[encoded data removed]",
      "text/plain": [
       "<IPython.core.display.Image object>"
      ]
     },
     "metadata": {},
     "output_type": "display_data"
    }
   ],
   "source": [
    "try:\n",
    "    display(Image(graph.get_graph().draw_mermaid_png()))\n",
    "except Exception as e:\n",
    "    print(f\"Error occurred: {e}\")"
   ]
  },
  {
   "cell_type": "code",
   "execution_count": 20,
   "id": "735b1123",
   "metadata": {},
   "outputs": [
    {
     "data": {
      "text/plain": [
       "{'messages': [HumanMessage(content='Who won the last FIFA world cup?', additional_kwargs={}, response_metadata={}, id='e1fbfe0d-4ad5-4235-bcf3-71dfd6987c4f'),\n",
       "  AIMessage(content='', additional_kwargs={'tool_calls': [{'id': 'call_hkPzKPwS2kW4O6Aqm1bI4wup', 'function': {'arguments': '{\"query\":\"last FIFA World Cup winner\",\"time_range\":\"year\",\"topic\":\"news\"}', 'name': 'tavily_search'}, 'type': 'function'}], 'refusal': None}, response_metadata={'token_usage': {'completion_tokens': 30, 'prompt_tokens': 1306, 'total_tokens': 1336, 'completion_tokens_details': {'accepted_prediction_tokens': 0, 'audio_tokens': 0, 'reasoning_tokens': 0, 'rejected_prediction_tokens': 0}, 'prompt_tokens_details': {'audio_tokens': 0, 'cached_tokens': 1152}}, 'model_name': 'gpt-4o-2024-11-20', 'system_fingerprint': 'fp_ee1d74bde0', 'id': 'chatcmpl-C1zjRucPgU55657GPDAQYA8xXgoqe', 'service_tier': None, 'prompt_filter_results': [{'prompt_index': 0, 'content_filter_results': {'hate': {'filtered': False, 'severity': 'safe'}, 'jailbreak': {'filtered': False, 'detected': False}, 'self_harm': {'filtered': False, 'severity': 'safe'}, 'sexual': {'filtered': False, 'severity': 'safe'}, 'violence': {'filtered': False, 'severity': 'safe'}}}], 'finish_reason': 'tool_calls', 'logprobs': None, 'content_filter_results': {}}, id='run--23d7802a-e4aa-4a61-a066-1a0fc9d8cac7-0', tool_calls=[{'name': 'tavily_search', 'args': {'query': 'last FIFA World Cup winner', 'time_range': 'year', 'topic': 'news'}, 'id': 'call_hkPzKPwS2kW4O6Aqm1bI4wup', 'type': 'tool_call'}], usage_metadata={'input_tokens': 1306, 'output_tokens': 30, 'total_tokens': 1336, 'input_token_details': {'audio': 0, 'cache_read': 1152}, 'output_token_details': {'audio': 0, 'reasoning': 0}}),\n",
       "  ToolMessage(content='{\"query\": \"last FIFA World Cup winner\", \"follow_up_questions\": null, \"answer\": null, \"images\": [], \"results\": [{\"url\": \"https://www.theguardian.com/football/2025/jul/02/football-daily-email-euro-2025\", \"title\": \"Ignore the keyboard warriors: bring on Swiss cliches and Euro 2025 - The Guardian\", \"score\": 0.48221022, \"published_date\": \"Wed, 02 Jul 2025 14:19:00 GMT\", \"content\": \"I wish them all good health, to be on top of their game, to make their nations proud, and to write a new chapter in football history.” Of the teams who qualified, approximately five are considered genuine contenders to lift the trophy, even if most experts seem to have flagged up Spain, the World Cup holders, as the most likely winners. Image 9: Sweden celebrate their triumph over England on penalties at Euro 1984View image in fullscreen *   Image 25   ### Soccer García guides Real Madrid past Juventus and into Club World Cup quarter-finals 17h ago        *   Image 32   ### Soccer Kane sinks Flamengo to set up Bayern Munich’s Club World Cup tie with PSG 3d ago       \", \"raw_content\": null}, {\"url\": \"https://www.nytimes.com/athletic/6085823/2025/01/27/2026-world-cup-united-states-canada-mexico/\", \"title\": \"Everything you need to know about the 2026 World Cup: What is it? When is it? Who are the favourites? - The Athletic - The Athletic\", \"score\": 0.4011956, \"published_date\": \"Mon, 27 Jan 2025 15:40:11 GMT\", \"content\": \"New York/New Jersey Stadium – commonly known as MetLife Stadium – will host the 2026 World Cup final (Al Bello/Getty Images) It’s a stadium with a claim to fame like no other on Earth, having hosted the World Cup final twice — in 1970, won by Pele’s Brazil, and in 1986, when Diego Maradona’s Argentina were the champions. Footballing superstar Lionel Messi crowned his stellar — albeit it’s ongoing at age 37 — playing career by finally realising his dream of lifting a World Cup title with Argentina three years ago. Spain (the world’s third-best side, according to FIFA) will want to add to their 2024 European Championship success (and their women’s team’s 2023 World Cup triumph) by clinching a second men’s title, after their first in 2010.\", \"raw_content\": null}], \"response_time\": 1.41}', name='tavily_search', id='9173e565-7edc-4f7e-9c84-3900a743ccac', tool_call_id='call_hkPzKPwS2kW4O6Aqm1bI4wup')]}"
      ]
     },
     "execution_count": 20,
     "metadata": {},
     "output_type": "execute_result"
    }
   ],
   "source": [
    "chat = graph.invoke({\"messages\": [\"Who won the last FIFA world cup?\"]})\n",
    "chat"
   ]
  },
  {
   "cell_type": "code",
   "execution_count": 21,
   "id": "edea3f2f",
   "metadata": {},
   "outputs": [
    {
     "data": {
      "text/plain": [
       "{'messages': [HumanMessage(content='What is 10 multiplied by 23', additional_kwargs={}, response_metadata={}, id='a6deaecd-1376-4325-afd4-db1ccbf8d095'),\n",
       "  AIMessage(content='', additional_kwargs={'tool_calls': [{'id': 'call_Vx5MJlGSVnd2lPc0WfdPKLoH', 'function': {'arguments': '{\"a\":10,\"b\":23}', 'name': 'multiply_tool'}, 'type': 'function'}], 'refusal': None}, response_metadata={'token_usage': {'completion_tokens': 19, 'prompt_tokens': 1306, 'total_tokens': 1325, 'completion_tokens_details': {'accepted_prediction_tokens': 0, 'audio_tokens': 0, 'reasoning_tokens': 0, 'rejected_prediction_tokens': 0}, 'prompt_tokens_details': {'audio_tokens': 0, 'cached_tokens': 1152}}, 'model_name': 'gpt-4o-2024-11-20', 'system_fingerprint': 'fp_ee1d74bde0', 'id': 'chatcmpl-C1zlfCIbOuB5chFz6h9mJNNBNJEkM', 'service_tier': None, 'prompt_filter_results': [{'prompt_index': 0, 'content_filter_results': {'hate': {'filtered': False, 'severity': 'safe'}, 'jailbreak': {'filtered': False, 'detected': False}, 'self_harm': {'filtered': False, 'severity': 'safe'}, 'sexual': {'filtered': False, 'severity': 'safe'}, 'violence': {'filtered': False, 'severity': 'safe'}}}], 'finish_reason': 'tool_calls', 'logprobs': None, 'content_filter_results': {}}, id='run--f1294f52-7da1-435d-bb89-1f3434ff6a36-0', tool_calls=[{'name': 'multiply_tool', 'args': {'a': 10, 'b': 23}, 'id': 'call_Vx5MJlGSVnd2lPc0WfdPKLoH', 'type': 'tool_call'}], usage_metadata={'input_tokens': 1306, 'output_tokens': 19, 'total_tokens': 1325, 'input_token_details': {'audio': 0, 'cache_read': 1152}, 'output_token_details': {'audio': 0, 'reasoning': 0}}),\n",
       "  ToolMessage(content='230', name='multiply_tool', id='919e99cd-a9aa-4687-ba31-ec6b8e5888c3', tool_call_id='call_Vx5MJlGSVnd2lPc0WfdPKLoH')]}"
      ]
     },
     "execution_count": 21,
     "metadata": {},
     "output_type": "execute_result"
    }
   ],
   "source": [
    "chat = graph.invoke({\"messages\": [\"What is 10 multiplied by 23\"]})\n",
    "chat"
   ]
  },
  {
   "cell_type": "code",
   "execution_count": null,
   "id": "27fa78a8",
   "metadata": {},
   "outputs": [
    {
     "data": {
      "text/plain": [
       "{'messages': [HumanMessage(content='What is 10 multiplied by 23 and then multiplied by -22', additional_kwargs={}, response_metadata={}, id='ecd95617-87a5-48e7-b412-0e912de326d4'),\n",
       "  AIMessage(content='', additional_kwargs={'tool_calls': [{'id': 'call_i6nAwfEGVRjAKrhGUT5tDvE0', 'function': {'arguments': '{\"a\": 10, \"b\": 23}', 'name': 'multiply_tool'}, 'type': 'function'}, {'id': 'call_f0BN1oA0Yo0a2pFmMn628eRQ', 'function': {'arguments': '{\"a\": 23, \"b\": -22}', 'name': 'multiply_tool'}, 'type': 'function'}], 'refusal': None}, response_metadata={'token_usage': {'completion_tokens': 54, 'prompt_tokens': 1312, 'total_tokens': 1366, 'completion_tokens_details': {'accepted_prediction_tokens': 0, 'audio_tokens': 0, 'reasoning_tokens': 0, 'rejected_prediction_tokens': 0}, 'prompt_tokens_details': {'audio_tokens': 0, 'cached_tokens': 1152}}, 'model_name': 'gpt-4o-2024-11-20', 'system_fingerprint': 'fp_ee1d74bde0', 'id': 'chatcmpl-C1zn3aAeinSdsUErZD6BpVfdHSaQt', 'service_tier': None, 'prompt_filter_results': [{'prompt_index': 0, 'content_filter_results': {'hate': {'filtered': False, 'severity': 'safe'}, 'jailbreak': {'filtered': False, 'detected': False}, 'self_harm': {'filtered': False, 'severity': 'safe'}, 'sexual': {'filtered': False, 'severity': 'safe'}, 'violence': {'filtered': False, 'severity': 'safe'}}}], 'finish_reason': 'tool_calls', 'logprobs': None, 'content_filter_results': {}}, id='run--bbc7739d-23e6-49e4-9237-31ac45ca2fa2-0', tool_calls=[{'name': 'multiply_tool', 'args': {'a': 10, 'b': 23}, 'id': 'call_i6nAwfEGVRjAKrhGUT5tDvE0', 'type': 'tool_call'}, {'name': 'multiply_tool', 'args': {'a': 23, 'b': -22}, 'id': 'call_f0BN1oA0Yo0a2pFmMn628eRQ', 'type': 'tool_call'}], usage_metadata={'input_tokens': 1312, 'output_tokens': 54, 'total_tokens': 1366, 'input_token_details': {'audio': 0, 'cache_read': 1152}, 'output_token_details': {'audio': 0, 'reasoning': 0}}),\n",
       "  ToolMessage(content='230', name='multiply_tool', id='c9daa8b4-6fa1-40bf-b6d3-4aaf795d3235', tool_call_id='call_i6nAwfEGVRjAKrhGUT5tDvE0'),\n",
       "  ToolMessage(content='-506', name='multiply_tool', id='a058eb6f-4b61-441f-8169-db789911c4e1', tool_call_id='call_f0BN1oA0Yo0a2pFmMn628eRQ')]}"
      ]
     },
     "execution_count": 22,
     "metadata": {},
     "output_type": "execute_result"
    }
   ],
   "source": [
    "# See how the tool took inputs from the natural language\n",
    "chat = graph.invoke({\"messages\": [\"What is 10 multiplied by 23 and then multiplied by -22\"]})\n",
    "chat"
   ]
  },
  {
   "cell_type": "code",
   "execution_count": null,
   "id": "08111712",
   "metadata": {},
   "outputs": [
    {
     "data": {
      "text/plain": [
       "<langgraph.graph.state.StateGraph at 0x117c09eb0>"
      ]
     },
     "execution_count": 23,
     "metadata": {},
     "output_type": "execute_result"
    }
   ],
   "source": [
    "# We need to change the graph, rerouting the edges for better communication\n",
    "# Building a new graph to utilize ReAct Architecture\n",
    "def model_with_tools_function(input_state: State):\n",
    "    return {\"messages\": [\n",
    "        model_with_tools.invoke(input_state[\"messages\"])\n",
    "    ]}\n",
    "\n",
    "\n",
    "graph_builder = StateGraph(State)\n",
    "graph_builder.add_node(\"LLMWithTools\", model_with_tools_function)\n",
    "graph_builder.add_node(\"tools\", ToolNode(tools)) # we have prebuilt node (no need to create a function and reference here)\n",
    "\n",
    "\n",
    "graph_builder.add_edge(START, \"LLMWithTools\")\n",
    "graph_builder.add_conditional_edges(\n",
    "    \"LLMWithTools\",\n",
    "    # If the latest message (result) from assistant is a tool call -> tools_condition routes to tools\n",
    "    # If the latest message (result) from assistant is a not a tool call -> tools_condition routes to END\n",
    "    tools_condition # I can even add my own callable with custom logic\n",
    ")\n",
    "graph_builder.add_edge(\"tools\", \"LLMWithTools\")\n",
    "graph_builder.add_edge(\"LLMWithTools\", END)"
   ]
  },
  {
   "cell_type": "code",
   "execution_count": 24,
   "id": "a6a7956c",
   "metadata": {},
   "outputs": [],
   "source": [
    "graph = graph_builder.compile()"
   ]
  },
  {
   "cell_type": "code",
   "execution_count": 25,
   "id": "e26ff71d",
   "metadata": {},
   "outputs": [
    {
     "data": {
      "image/png": "[encoded data removed]",
      "text/plain": [
       "<IPython.core.display.Image object>"
      ]
     },
     "metadata": {},
     "output_type": "display_data"
    }
   ],
   "source": [
    "try:\n",
    "    display(Image(graph.get_graph().draw_mermaid_png()))\n",
    "except Exception as e:\n",
    "    print(f\"Error occurred: {e}\")"
   ]
  },
  {
   "cell_type": "code",
   "execution_count": 26,
   "id": "12c0753e",
   "metadata": {},
   "outputs": [
    {
     "data": {
      "text/plain": [
       "{'messages': [HumanMessage(content='What is 10 multiplied by 23 and then multiplied by -22', additional_kwargs={}, response_metadata={}, id='6a3f3c98-4de9-4b55-b2e7-1f8f3aae9431'),\n",
       "  AIMessage(content='', additional_kwargs={'tool_calls': [{'id': 'call_xgKkQSX6DCEC0RdrYxFfqaFN', 'function': {'arguments': '{\"a\":10,\"b\":23}', 'name': 'multiply_tool'}, 'type': 'function'}], 'refusal': None}, response_metadata={'token_usage': {'completion_tokens': 19, 'prompt_tokens': 1312, 'total_tokens': 1331, 'completion_tokens_details': {'accepted_prediction_tokens': 0, 'audio_tokens': 0, 'reasoning_tokens': 0, 'rejected_prediction_tokens': 0}, 'prompt_tokens_details': {'audio_tokens': 0, 'cached_tokens': 0}}, 'model_name': 'gpt-4o-2024-11-20', 'system_fingerprint': 'fp_ee1d74bde0', 'id': 'chatcmpl-C200d0XrPJhNj9cDBDAxGzG9leep8', 'service_tier': None, 'prompt_filter_results': [{'prompt_index': 0, 'content_filter_results': {'hate': {'filtered': False, 'severity': 'safe'}, 'jailbreak': {'filtered': False, 'detected': False}, 'self_harm': {'filtered': False, 'severity': 'safe'}, 'sexual': {'filtered': False, 'severity': 'safe'}, 'violence': {'filtered': False, 'severity': 'safe'}}}], 'finish_reason': 'tool_calls', 'logprobs': None, 'content_filter_results': {}}, id='run--9f31234e-f7d6-4263-b71d-062c1ca6a637-0', tool_calls=[{'name': 'multiply_tool', 'args': {'a': 10, 'b': 23}, 'id': 'call_xgKkQSX6DCEC0RdrYxFfqaFN', 'type': 'tool_call'}], usage_metadata={'input_tokens': 1312, 'output_tokens': 19, 'total_tokens': 1331, 'input_token_details': {'audio': 0, 'cache_read': 0}, 'output_token_details': {'audio': 0, 'reasoning': 0}}),\n",
       "  ToolMessage(content='230', name='multiply_tool', id='815a65da-765f-4c70-ac7f-4843fd578ffe', tool_call_id='call_xgKkQSX6DCEC0RdrYxFfqaFN'),\n",
       "  AIMessage(content='', additional_kwargs={'tool_calls': [{'id': 'call_afKZypmZJE2sqsWScAuoV3ka', 'function': {'arguments': '{\"a\":230,\"b\":-22}', 'name': 'multiply_tool'}, 'type': 'function'}], 'refusal': None}, response_metadata={'token_usage': {'completion_tokens': 20, 'prompt_tokens': 1339, 'total_tokens': 1359, 'completion_tokens_details': {'accepted_prediction_tokens': 0, 'audio_tokens': 0, 'reasoning_tokens': 0, 'rejected_prediction_tokens': 0}, 'prompt_tokens_details': {'audio_tokens': 0, 'cached_tokens': 1152}}, 'model_name': 'gpt-4o-2024-11-20', 'system_fingerprint': 'fp_ee1d74bde0', 'id': 'chatcmpl-C200e5OyW4Snx2bzb0HERNrgikUMU', 'service_tier': None, 'prompt_filter_results': [{'prompt_index': 0, 'content_filter_results': {'hate': {'filtered': False, 'severity': 'safe'}, 'jailbreak': {'filtered': False, 'detected': False}, 'self_harm': {'filtered': False, 'severity': 'safe'}, 'sexual': {'filtered': False, 'severity': 'safe'}, 'violence': {'filtered': False, 'severity': 'safe'}}}], 'finish_reason': 'tool_calls', 'logprobs': None, 'content_filter_results': {}}, id='run--dc9691ea-33c2-48e1-b16b-77716da6bc14-0', tool_calls=[{'name': 'multiply_tool', 'args': {'a': 230, 'b': -22}, 'id': 'call_afKZypmZJE2sqsWScAuoV3ka', 'type': 'tool_call'}], usage_metadata={'input_tokens': 1339, 'output_tokens': 20, 'total_tokens': 1359, 'input_token_details': {'audio': 0, 'cache_read': 1152}, 'output_token_details': {'audio': 0, 'reasoning': 0}}),\n",
       "  ToolMessage(content='-5060', name='multiply_tool', id='1b11f377-c63d-4ed2-9be7-250bdd3ab882', tool_call_id='call_afKZypmZJE2sqsWScAuoV3ka'),\n",
       "  AIMessage(content='The result of 10 multiplied by 23 and then multiplied by -22 is **-5060**.', additional_kwargs={'refusal': None}, response_metadata={'token_usage': {'completion_tokens': 24, 'prompt_tokens': 1369, 'total_tokens': 1393, 'completion_tokens_details': {'accepted_prediction_tokens': 0, 'audio_tokens': 0, 'reasoning_tokens': 0, 'rejected_prediction_tokens': 0}, 'prompt_tokens_details': {'audio_tokens': 0, 'cached_tokens': 1280}}, 'model_name': 'gpt-4o-2024-11-20', 'system_fingerprint': 'fp_ee1d74bde0', 'id': 'chatcmpl-C200foOeUdNOzYc2BQUoWiJSfra20', 'service_tier': None, 'prompt_filter_results': [{'prompt_index': 0, 'content_filter_results': {'hate': {'filtered': False, 'severity': 'safe'}, 'jailbreak': {'filtered': False, 'detected': False}, 'self_harm': {'filtered': False, 'severity': 'safe'}, 'sexual': {'filtered': False, 'severity': 'safe'}, 'violence': {'filtered': False, 'severity': 'safe'}}}], 'finish_reason': 'stop', 'logprobs': None, 'content_filter_results': {'hate': {'filtered': False, 'severity': 'safe'}, 'self_harm': {'filtered': False, 'severity': 'safe'}, 'sexual': {'filtered': False, 'severity': 'safe'}, 'violence': {'filtered': False, 'severity': 'safe'}}}, id='run--42ea5730-0599-4aa7-b4ae-8f15162ede0f-0', usage_metadata={'input_tokens': 1369, 'output_tokens': 24, 'total_tokens': 1393, 'input_token_details': {'audio': 0, 'cache_read': 1280}, 'output_token_details': {'audio': 0, 'reasoning': 0}})]}"
      ]
     },
     "execution_count": 26,
     "metadata": {},
     "output_type": "execute_result"
    }
   ],
   "source": [
    "chat = graph.invoke({\"messages\": [\"What is 10 multiplied by 23 and then multiplied by -22\"]})\n",
    "chat"
   ]
  },
  {
   "cell_type": "code",
   "execution_count": null,
   "id": "25ce7515",
   "metadata": {},
   "outputs": [
    {
     "data": {
      "text/plain": [
       "{'messages': [HumanMessage(content='Hi, my name is Siddharth', additional_kwargs={}, response_metadata={}, id='c5d43e77-e5ad-4b0d-baa1-af75cd8d4a1c'),\n",
       "  AIMessage(content='Hello Siddharth! How can I assist you today?', additional_kwargs={'refusal': None}, response_metadata={'token_usage': {'completion_tokens': 14, 'prompt_tokens': 1306, 'total_tokens': 1320, 'completion_tokens_details': {'accepted_prediction_tokens': 0, 'audio_tokens': 0, 'reasoning_tokens': 0, 'rejected_prediction_tokens': 0}, 'prompt_tokens_details': {'audio_tokens': 0, 'cached_tokens': 1152}}, 'model_name': 'gpt-4o-2024-11-20', 'system_fingerprint': 'fp_ee1d74bde0', 'id': 'chatcmpl-C2073pdB51Y1WA3KI6epmLdZKOWn2', 'service_tier': None, 'prompt_filter_results': [{'prompt_index': 0, 'content_filter_results': {'hate': {'filtered': False, 'severity': 'safe'}, 'jailbreak': {'filtered': False, 'detected': False}, 'self_harm': {'filtered': False, 'severity': 'safe'}, 'sexual': {'filtered': False, 'severity': 'safe'}, 'violence': {'filtered': False, 'severity': 'safe'}}}], 'finish_reason': 'stop', 'logprobs': None, 'content_filter_results': {'hate': {'filtered': False, 'severity': 'safe'}, 'protected_material_code': {'filtered': False, 'detected': False}, 'protected_material_text': {'filtered': False, 'detected': False}, 'self_harm': {'filtered': False, 'severity': 'safe'}, 'sexual': {'filtered': False, 'severity': 'safe'}, 'violence': {'filtered': False, 'severity': 'safe'}}}, id='run--5164c9c2-35a5-4511-8490-7c368d0b150c-0', usage_metadata={'input_tokens': 1306, 'output_tokens': 14, 'total_tokens': 1320, 'input_token_details': {'audio': 0, 'cache_read': 1152}, 'output_token_details': {'audio': 0, 'reasoning': 0}})]}"
      ]
     },
     "execution_count": 29,
     "metadata": {},
     "output_type": "execute_result"
    }
   ],
   "source": [
    "# Adding short-term memory to the chat\n",
    "memory = MemorySaver()\n",
    "thread_id = uuid.uuid4()\n",
    "graph = graph_builder.compile(checkpointer=memory)\n",
    "config = {\"configurable\": {\"thread_id\": thread_id}}\n",
    "\n",
    "chat = graph.invoke({\"messages\": [\"Hi, my name is Siddharth\"]}, config=config)\n",
    "chat"
   ]
  },
  {
   "cell_type": "code",
   "execution_count": 30,
   "id": "342d867b",
   "metadata": {},
   "outputs": [
    {
     "data": {
      "text/plain": [
       "{'messages': [HumanMessage(content='Hi, my name is Siddharth', additional_kwargs={}, response_metadata={}, id='c5d43e77-e5ad-4b0d-baa1-af75cd8d4a1c'),\n",
       "  AIMessage(content='Hello Siddharth! How can I assist you today?', additional_kwargs={'refusal': None}, response_metadata={'token_usage': {'completion_tokens': 14, 'prompt_tokens': 1306, 'total_tokens': 1320, 'completion_tokens_details': {'accepted_prediction_tokens': 0, 'audio_tokens': 0, 'reasoning_tokens': 0, 'rejected_prediction_tokens': 0}, 'prompt_tokens_details': {'audio_tokens': 0, 'cached_tokens': 1152}}, 'model_name': 'gpt-4o-2024-11-20', 'system_fingerprint': 'fp_ee1d74bde0', 'id': 'chatcmpl-C2073pdB51Y1WA3KI6epmLdZKOWn2', 'service_tier': None, 'prompt_filter_results': [{'prompt_index': 0, 'content_filter_results': {'hate': {'filtered': False, 'severity': 'safe'}, 'jailbreak': {'filtered': False, 'detected': False}, 'self_harm': {'filtered': False, 'severity': 'safe'}, 'sexual': {'filtered': False, 'severity': 'safe'}, 'violence': {'filtered': False, 'severity': 'safe'}}}], 'finish_reason': 'stop', 'logprobs': None, 'content_filter_results': {'hate': {'filtered': False, 'severity': 'safe'}, 'protected_material_code': {'filtered': False, 'detected': False}, 'protected_material_text': {'filtered': False, 'detected': False}, 'self_harm': {'filtered': False, 'severity': 'safe'}, 'sexual': {'filtered': False, 'severity': 'safe'}, 'violence': {'filtered': False, 'severity': 'safe'}}}, id='run--5164c9c2-35a5-4511-8490-7c368d0b150c-0', usage_metadata={'input_tokens': 1306, 'output_tokens': 14, 'total_tokens': 1320, 'input_token_details': {'audio': 0, 'cache_read': 1152}, 'output_token_details': {'audio': 0, 'reasoning': 0}}),\n",
       "  HumanMessage(content='Hi, can you tell me my name?', additional_kwargs={}, response_metadata={}, id='9e1198b2-a6af-4a00-b1dc-cae7f8437fc4'),\n",
       "  AIMessage(content='Yes, your name is Siddharth! 😊 How can I help you today?', additional_kwargs={'refusal': None}, response_metadata={'token_usage': {'completion_tokens': 19, 'prompt_tokens': 1335, 'total_tokens': 1354, 'completion_tokens_details': {'accepted_prediction_tokens': 0, 'audio_tokens': 0, 'reasoning_tokens': 0, 'rejected_prediction_tokens': 0}, 'prompt_tokens_details': {'audio_tokens': 0, 'cached_tokens': 1152}}, 'model_name': 'gpt-4o-2024-11-20', 'system_fingerprint': 'fp_ee1d74bde0', 'id': 'chatcmpl-C208C0a6NORWPKS30s76q5GCOIFWQ', 'service_tier': None, 'prompt_filter_results': [{'prompt_index': 0, 'content_filter_results': {'hate': {'filtered': False, 'severity': 'safe'}, 'jailbreak': {'filtered': False, 'detected': False}, 'self_harm': {'filtered': False, 'severity': 'safe'}, 'sexual': {'filtered': False, 'severity': 'safe'}, 'violence': {'filtered': False, 'severity': 'safe'}}}], 'finish_reason': 'stop', 'logprobs': None, 'content_filter_results': {'hate': {'filtered': False, 'severity': 'safe'}, 'protected_material_code': {'filtered': False, 'detected': False}, 'protected_material_text': {'filtered': False, 'detected': False}, 'self_harm': {'filtered': False, 'severity': 'safe'}, 'sexual': {'filtered': False, 'severity': 'safe'}, 'violence': {'filtered': False, 'severity': 'safe'}}}, id='run--6b5ba4a6-0ec5-4819-b831-fbdc730c3d9e-0', usage_metadata={'input_tokens': 1335, 'output_tokens': 19, 'total_tokens': 1354, 'input_token_details': {'audio': 0, 'cache_read': 1152}, 'output_token_details': {'audio': 0, 'reasoning': 0}})]}"
      ]
     },
     "execution_count": 30,
     "metadata": {},
     "output_type": "execute_result"
    }
   ],
   "source": [
    "chat = graph.invoke({\"messages\": [\"Hi, can you tell me my name?\"]}, config=config)\n",
    "chat"
   ]
  },
  {
   "cell_type": "code",
   "execution_count": 34,
   "id": "81997450",
   "metadata": {},
   "outputs": [
    {
     "data": {
      "text/plain": [
       "StateSnapshot(values={'messages': [HumanMessage(content='Hi, my name is Siddharth', additional_kwargs={}, response_metadata={}, id='c5d43e77-e5ad-4b0d-baa1-af75cd8d4a1c'), AIMessage(content='Hello Siddharth! How can I assist you today?', additional_kwargs={'refusal': None}, response_metadata={'token_usage': {'completion_tokens': 14, 'prompt_tokens': 1306, 'total_tokens': 1320, 'completion_tokens_details': {'accepted_prediction_tokens': 0, 'audio_tokens': 0, 'reasoning_tokens': 0, 'rejected_prediction_tokens': 0}, 'prompt_tokens_details': {'audio_tokens': 0, 'cached_tokens': 1152}}, 'model_name': 'gpt-4o-2024-11-20', 'system_fingerprint': 'fp_ee1d74bde0', 'id': 'chatcmpl-C2073pdB51Y1WA3KI6epmLdZKOWn2', 'service_tier': None, 'prompt_filter_results': [{'prompt_index': 0, 'content_filter_results': {'hate': {'filtered': False, 'severity': 'safe'}, 'jailbreak': {'filtered': False, 'detected': False}, 'self_harm': {'filtered': False, 'severity': 'safe'}, 'sexual': {'filtered': False, 'severity': 'safe'}, 'violence': {'filtered': False, 'severity': 'safe'}}}], 'finish_reason': 'stop', 'logprobs': None, 'content_filter_results': {'hate': {'filtered': False, 'severity': 'safe'}, 'protected_material_code': {'filtered': False, 'detected': False}, 'protected_material_text': {'filtered': False, 'detected': False}, 'self_harm': {'filtered': False, 'severity': 'safe'}, 'sexual': {'filtered': False, 'severity': 'safe'}, 'violence': {'filtered': False, 'severity': 'safe'}}}, id='run--5164c9c2-35a5-4511-8490-7c368d0b150c-0', usage_metadata={'input_tokens': 1306, 'output_tokens': 14, 'total_tokens': 1320, 'input_token_details': {'audio': 0, 'cache_read': 1152}, 'output_token_details': {'audio': 0, 'reasoning': 0}}), HumanMessage(content='Hi, can you tell me my name?', additional_kwargs={}, response_metadata={}, id='9e1198b2-a6af-4a00-b1dc-cae7f8437fc4'), AIMessage(content='Yes, your name is Siddharth! 😊 How can I help you today?', additional_kwargs={'refusal': None}, response_metadata={'token_usage': {'completion_tokens': 19, 'prompt_tokens': 1335, 'total_tokens': 1354, 'completion_tokens_details': {'accepted_prediction_tokens': 0, 'audio_tokens': 0, 'reasoning_tokens': 0, 'rejected_prediction_tokens': 0}, 'prompt_tokens_details': {'audio_tokens': 0, 'cached_tokens': 1152}}, 'model_name': 'gpt-4o-2024-11-20', 'system_fingerprint': 'fp_ee1d74bde0', 'id': 'chatcmpl-C208C0a6NORWPKS30s76q5GCOIFWQ', 'service_tier': None, 'prompt_filter_results': [{'prompt_index': 0, 'content_filter_results': {'hate': {'filtered': False, 'severity': 'safe'}, 'jailbreak': {'filtered': False, 'detected': False}, 'self_harm': {'filtered': False, 'severity': 'safe'}, 'sexual': {'filtered': False, 'severity': 'safe'}, 'violence': {'filtered': False, 'severity': 'safe'}}}], 'finish_reason': 'stop', 'logprobs': None, 'content_filter_results': {'hate': {'filtered': False, 'severity': 'safe'}, 'protected_material_code': {'filtered': False, 'detected': False}, 'protected_material_text': {'filtered': False, 'detected': False}, 'self_harm': {'filtered': False, 'severity': 'safe'}, 'sexual': {'filtered': False, 'severity': 'safe'}, 'violence': {'filtered': False, 'severity': 'safe'}}}, id='run--6b5ba4a6-0ec5-4819-b831-fbdc730c3d9e-0', usage_metadata={'input_tokens': 1335, 'output_tokens': 19, 'total_tokens': 1354, 'input_token_details': {'audio': 0, 'cache_read': 1152}, 'output_token_details': {'audio': 0, 'reasoning': 0}})]}, next=(), config={'configurable': {'thread_id': 'user_1', 'checkpoint_ns': '', 'checkpoint_id': '1f073c0b-584b-62c4-8004-691ec2380b4b'}}, metadata={'source': 'loop', 'step': 4, 'parents': {}}, created_at='2025-08-07T18:59:56.477279+00:00', parent_config={'configurable': {'thread_id': 'user_1', 'checkpoint_ns': '', 'checkpoint_id': '1f073c0b-4f3e-6a46-8003-c05536e3fb87'}}, tasks=(), interrupts=())"
      ]
     },
     "execution_count": 34,
     "metadata": {},
     "output_type": "execute_result"
    }
   ],
   "source": [
    "graph.get_state(config)"
   ]
  },
  {
   "cell_type": "code",
   "execution_count": 35,
   "id": "82f87154",
   "metadata": {},
   "outputs": [
    {
     "data": {
      "text/plain": [
       "[StateSnapshot(values={'messages': [HumanMessage(content='Hi, my name is Siddharth', additional_kwargs={}, response_metadata={}, id='c5d43e77-e5ad-4b0d-baa1-af75cd8d4a1c'), AIMessage(content='Hello Siddharth! How can I assist you today?', additional_kwargs={'refusal': None}, response_metadata={'token_usage': {'completion_tokens': 14, 'prompt_tokens': 1306, 'total_tokens': 1320, 'completion_tokens_details': {'accepted_prediction_tokens': 0, 'audio_tokens': 0, 'reasoning_tokens': 0, 'rejected_prediction_tokens': 0}, 'prompt_tokens_details': {'audio_tokens': 0, 'cached_tokens': 1152}}, 'model_name': 'gpt-4o-2024-11-20', 'system_fingerprint': 'fp_ee1d74bde0', 'id': 'chatcmpl-C2073pdB51Y1WA3KI6epmLdZKOWn2', 'service_tier': None, 'prompt_filter_results': [{'prompt_index': 0, 'content_filter_results': {'hate': {'filtered': False, 'severity': 'safe'}, 'jailbreak': {'filtered': False, 'detected': False}, 'self_harm': {'filtered': False, 'severity': 'safe'}, 'sexual': {'filtered': False, 'severity': 'safe'}, 'violence': {'filtered': False, 'severity': 'safe'}}}], 'finish_reason': 'stop', 'logprobs': None, 'content_filter_results': {'hate': {'filtered': False, 'severity': 'safe'}, 'protected_material_code': {'filtered': False, 'detected': False}, 'protected_material_text': {'filtered': False, 'detected': False}, 'self_harm': {'filtered': False, 'severity': 'safe'}, 'sexual': {'filtered': False, 'severity': 'safe'}, 'violence': {'filtered': False, 'severity': 'safe'}}}, id='run--5164c9c2-35a5-4511-8490-7c368d0b150c-0', usage_metadata={'input_tokens': 1306, 'output_tokens': 14, 'total_tokens': 1320, 'input_token_details': {'audio': 0, 'cache_read': 1152}, 'output_token_details': {'audio': 0, 'reasoning': 0}}), HumanMessage(content='Hi, can you tell me my name?', additional_kwargs={}, response_metadata={}, id='9e1198b2-a6af-4a00-b1dc-cae7f8437fc4'), AIMessage(content='Yes, your name is Siddharth! 😊 How can I help you today?', additional_kwargs={'refusal': None}, response_metadata={'token_usage': {'completion_tokens': 19, 'prompt_tokens': 1335, 'total_tokens': 1354, 'completion_tokens_details': {'accepted_prediction_tokens': 0, 'audio_tokens': 0, 'reasoning_tokens': 0, 'rejected_prediction_tokens': 0}, 'prompt_tokens_details': {'audio_tokens': 0, 'cached_tokens': 1152}}, 'model_name': 'gpt-4o-2024-11-20', 'system_fingerprint': 'fp_ee1d74bde0', 'id': 'chatcmpl-C208C0a6NORWPKS30s76q5GCOIFWQ', 'service_tier': None, 'prompt_filter_results': [{'prompt_index': 0, 'content_filter_results': {'hate': {'filtered': False, 'severity': 'safe'}, 'jailbreak': {'filtered': False, 'detected': False}, 'self_harm': {'filtered': False, 'severity': 'safe'}, 'sexual': {'filtered': False, 'severity': 'safe'}, 'violence': {'filtered': False, 'severity': 'safe'}}}], 'finish_reason': 'stop', 'logprobs': None, 'content_filter_results': {'hate': {'filtered': False, 'severity': 'safe'}, 'protected_material_code': {'filtered': False, 'detected': False}, 'protected_material_text': {'filtered': False, 'detected': False}, 'self_harm': {'filtered': False, 'severity': 'safe'}, 'sexual': {'filtered': False, 'severity': 'safe'}, 'violence': {'filtered': False, 'severity': 'safe'}}}, id='run--6b5ba4a6-0ec5-4819-b831-fbdc730c3d9e-0', usage_metadata={'input_tokens': 1335, 'output_tokens': 19, 'total_tokens': 1354, 'input_token_details': {'audio': 0, 'cache_read': 1152}, 'output_token_details': {'audio': 0, 'reasoning': 0}})]}, next=(), config={'configurable': {'thread_id': 'user_1', 'checkpoint_ns': '', 'checkpoint_id': '1f073c0b-584b-62c4-8004-691ec2380b4b'}}, metadata={'source': 'loop', 'step': 4, 'parents': {}}, created_at='2025-08-07T18:59:56.477279+00:00', parent_config={'configurable': {'thread_id': 'user_1', 'checkpoint_ns': '', 'checkpoint_id': '1f073c0b-4f3e-6a46-8003-c05536e3fb87'}}, tasks=(), interrupts=()),\n",
       " StateSnapshot(values={'messages': [HumanMessage(content='Hi, my name is Siddharth', additional_kwargs={}, response_metadata={}, id='c5d43e77-e5ad-4b0d-baa1-af75cd8d4a1c'), AIMessage(content='Hello Siddharth! How can I assist you today?', additional_kwargs={'refusal': None}, response_metadata={'token_usage': {'completion_tokens': 14, 'prompt_tokens': 1306, 'total_tokens': 1320, 'completion_tokens_details': {'accepted_prediction_tokens': 0, 'audio_tokens': 0, 'reasoning_tokens': 0, 'rejected_prediction_tokens': 0}, 'prompt_tokens_details': {'audio_tokens': 0, 'cached_tokens': 1152}}, 'model_name': 'gpt-4o-2024-11-20', 'system_fingerprint': 'fp_ee1d74bde0', 'id': 'chatcmpl-C2073pdB51Y1WA3KI6epmLdZKOWn2', 'service_tier': None, 'prompt_filter_results': [{'prompt_index': 0, 'content_filter_results': {'hate': {'filtered': False, 'severity': 'safe'}, 'jailbreak': {'filtered': False, 'detected': False}, 'self_harm': {'filtered': False, 'severity': 'safe'}, 'sexual': {'filtered': False, 'severity': 'safe'}, 'violence': {'filtered': False, 'severity': 'safe'}}}], 'finish_reason': 'stop', 'logprobs': None, 'content_filter_results': {'hate': {'filtered': False, 'severity': 'safe'}, 'protected_material_code': {'filtered': False, 'detected': False}, 'protected_material_text': {'filtered': False, 'detected': False}, 'self_harm': {'filtered': False, 'severity': 'safe'}, 'sexual': {'filtered': False, 'severity': 'safe'}, 'violence': {'filtered': False, 'severity': 'safe'}}}, id='run--5164c9c2-35a5-4511-8490-7c368d0b150c-0', usage_metadata={'input_tokens': 1306, 'output_tokens': 14, 'total_tokens': 1320, 'input_token_details': {'audio': 0, 'cache_read': 1152}, 'output_token_details': {'audio': 0, 'reasoning': 0}}), HumanMessage(content='Hi, can you tell me my name?', additional_kwargs={}, response_metadata={}, id='9e1198b2-a6af-4a00-b1dc-cae7f8437fc4')]}, next=('LLMWithTools',), config={'configurable': {'thread_id': 'user_1', 'checkpoint_ns': '', 'checkpoint_id': '1f073c0b-4f3e-6a46-8003-c05536e3fb87'}}, metadata={'source': 'loop', 'step': 3, 'parents': {}}, created_at='2025-08-07T18:59:55.528446+00:00', parent_config={'configurable': {'thread_id': 'user_1', 'checkpoint_ns': '', 'checkpoint_id': '1f073c0b-4f3c-60c0-8002-85e7b7e70d50'}}, tasks=(PregelTask(id='3b53df3c-c0bf-89b5-4b09-04b35d8053c5', name='LLMWithTools', path=('__pregel_pull', 'LLMWithTools'), error=None, interrupts=(), state=None, result={'messages': [AIMessage(content='Yes, your name is Siddharth! 😊 How can I help you today?', additional_kwargs={'refusal': None}, response_metadata={'token_usage': {'completion_tokens': 19, 'prompt_tokens': 1335, 'total_tokens': 1354, 'completion_tokens_details': {'accepted_prediction_tokens': 0, 'audio_tokens': 0, 'reasoning_tokens': 0, 'rejected_prediction_tokens': 0}, 'prompt_tokens_details': {'audio_tokens': 0, 'cached_tokens': 1152}}, 'model_name': 'gpt-4o-2024-11-20', 'system_fingerprint': 'fp_ee1d74bde0', 'id': 'chatcmpl-C208C0a6NORWPKS30s76q5GCOIFWQ', 'service_tier': None, 'prompt_filter_results': [{'prompt_index': 0, 'content_filter_results': {'hate': {'filtered': False, 'severity': 'safe'}, 'jailbreak': {'filtered': False, 'detected': False}, 'self_harm': {'filtered': False, 'severity': 'safe'}, 'sexual': {'filtered': False, 'severity': 'safe'}, 'violence': {'filtered': False, 'severity': 'safe'}}}], 'finish_reason': 'stop', 'logprobs': None, 'content_filter_results': {'hate': {'filtered': False, 'severity': 'safe'}, 'protected_material_code': {'filtered': False, 'detected': False}, 'protected_material_text': {'filtered': False, 'detected': False}, 'self_harm': {'filtered': False, 'severity': 'safe'}, 'sexual': {'filtered': False, 'severity': 'safe'}, 'violence': {'filtered': False, 'severity': 'safe'}}}, id='run--6b5ba4a6-0ec5-4819-b831-fbdc730c3d9e-0', usage_metadata={'input_tokens': 1335, 'output_tokens': 19, 'total_tokens': 1354, 'input_token_details': {'audio': 0, 'cache_read': 1152}, 'output_token_details': {'audio': 0, 'reasoning': 0}})]}),), interrupts=()),\n",
       " StateSnapshot(values={'messages': [HumanMessage(content='Hi, my name is Siddharth', additional_kwargs={}, response_metadata={}, id='c5d43e77-e5ad-4b0d-baa1-af75cd8d4a1c'), AIMessage(content='Hello Siddharth! How can I assist you today?', additional_kwargs={'refusal': None}, response_metadata={'token_usage': {'completion_tokens': 14, 'prompt_tokens': 1306, 'total_tokens': 1320, 'completion_tokens_details': {'accepted_prediction_tokens': 0, 'audio_tokens': 0, 'reasoning_tokens': 0, 'rejected_prediction_tokens': 0}, 'prompt_tokens_details': {'audio_tokens': 0, 'cached_tokens': 1152}}, 'model_name': 'gpt-4o-2024-11-20', 'system_fingerprint': 'fp_ee1d74bde0', 'id': 'chatcmpl-C2073pdB51Y1WA3KI6epmLdZKOWn2', 'service_tier': None, 'prompt_filter_results': [{'prompt_index': 0, 'content_filter_results': {'hate': {'filtered': False, 'severity': 'safe'}, 'jailbreak': {'filtered': False, 'detected': False}, 'self_harm': {'filtered': False, 'severity': 'safe'}, 'sexual': {'filtered': False, 'severity': 'safe'}, 'violence': {'filtered': False, 'severity': 'safe'}}}], 'finish_reason': 'stop', 'logprobs': None, 'content_filter_results': {'hate': {'filtered': False, 'severity': 'safe'}, 'protected_material_code': {'filtered': False, 'detected': False}, 'protected_material_text': {'filtered': False, 'detected': False}, 'self_harm': {'filtered': False, 'severity': 'safe'}, 'sexual': {'filtered': False, 'severity': 'safe'}, 'violence': {'filtered': False, 'severity': 'safe'}}}, id='run--5164c9c2-35a5-4511-8490-7c368d0b150c-0', usage_metadata={'input_tokens': 1306, 'output_tokens': 14, 'total_tokens': 1320, 'input_token_details': {'audio': 0, 'cache_read': 1152}, 'output_token_details': {'audio': 0, 'reasoning': 0}})]}, next=('__start__',), config={'configurable': {'thread_id': 'user_1', 'checkpoint_ns': '', 'checkpoint_id': '1f073c0b-4f3c-60c0-8002-85e7b7e70d50'}}, metadata={'source': 'input', 'step': 2, 'parents': {}}, created_at='2025-08-07T18:59:55.527380+00:00', parent_config={'configurable': {'thread_id': 'user_1', 'checkpoint_ns': '', 'checkpoint_id': '1f073c08-b36f-6a04-8001-a03d59ea82d5'}}, tasks=(PregelTask(id='3e31d25a-35a3-4b36-225a-652d40b17d5a', name='__start__', path=('__pregel_pull', '__start__'), error=None, interrupts=(), state=None, result={'messages': ['Hi, can you tell me my name?']}),), interrupts=()),\n",
       " StateSnapshot(values={'messages': [HumanMessage(content='Hi, my name is Siddharth', additional_kwargs={}, response_metadata={}, id='c5d43e77-e5ad-4b0d-baa1-af75cd8d4a1c'), AIMessage(content='Hello Siddharth! How can I assist you today?', additional_kwargs={'refusal': None}, response_metadata={'token_usage': {'completion_tokens': 14, 'prompt_tokens': 1306, 'total_tokens': 1320, 'completion_tokens_details': {'accepted_prediction_tokens': 0, 'audio_tokens': 0, 'reasoning_tokens': 0, 'rejected_prediction_tokens': 0}, 'prompt_tokens_details': {'audio_tokens': 0, 'cached_tokens': 1152}}, 'model_name': 'gpt-4o-2024-11-20', 'system_fingerprint': 'fp_ee1d74bde0', 'id': 'chatcmpl-C2073pdB51Y1WA3KI6epmLdZKOWn2', 'service_tier': None, 'prompt_filter_results': [{'prompt_index': 0, 'content_filter_results': {'hate': {'filtered': False, 'severity': 'safe'}, 'jailbreak': {'filtered': False, 'detected': False}, 'self_harm': {'filtered': False, 'severity': 'safe'}, 'sexual': {'filtered': False, 'severity': 'safe'}, 'violence': {'filtered': False, 'severity': 'safe'}}}], 'finish_reason': 'stop', 'logprobs': None, 'content_filter_results': {'hate': {'filtered': False, 'severity': 'safe'}, 'protected_material_code': {'filtered': False, 'detected': False}, 'protected_material_text': {'filtered': False, 'detected': False}, 'self_harm': {'filtered': False, 'severity': 'safe'}, 'sexual': {'filtered': False, 'severity': 'safe'}, 'violence': {'filtered': False, 'severity': 'safe'}}}, id='run--5164c9c2-35a5-4511-8490-7c368d0b150c-0', usage_metadata={'input_tokens': 1306, 'output_tokens': 14, 'total_tokens': 1320, 'input_token_details': {'audio': 0, 'cache_read': 1152}, 'output_token_details': {'audio': 0, 'reasoning': 0}})]}, next=(), config={'configurable': {'thread_id': 'user_1', 'checkpoint_ns': '', 'checkpoint_id': '1f073c08-b36f-6a04-8001-a03d59ea82d5'}}, metadata={'source': 'loop', 'step': 1, 'parents': {}}, created_at='2025-08-07T18:58:45.503566+00:00', parent_config={'configurable': {'thread_id': 'user_1', 'checkpoint_ns': '', 'checkpoint_id': '1f073c08-ab8e-68f8-8000-a6cfb248fb7e'}}, tasks=(), interrupts=()),\n",
       " StateSnapshot(values={'messages': [HumanMessage(content='Hi, my name is Siddharth', additional_kwargs={}, response_metadata={}, id='c5d43e77-e5ad-4b0d-baa1-af75cd8d4a1c')]}, next=('LLMWithTools',), config={'configurable': {'thread_id': 'user_1', 'checkpoint_ns': '', 'checkpoint_id': '1f073c08-ab8e-68f8-8000-a6cfb248fb7e'}}, metadata={'source': 'loop', 'step': 0, 'parents': {}}, created_at='2025-08-07T18:58:44.677432+00:00', parent_config={'configurable': {'thread_id': 'user_1', 'checkpoint_ns': '', 'checkpoint_id': '1f073c08-ab87-6c7e-bfff-905e8a22c0fe'}}, tasks=(PregelTask(id='cc0b42e7-b554-b514-5e05-d59b009f99e5', name='LLMWithTools', path=('__pregel_pull', 'LLMWithTools'), error=None, interrupts=(), state=None, result={'messages': [AIMessage(content='Hello Siddharth! How can I assist you today?', additional_kwargs={'refusal': None}, response_metadata={'token_usage': {'completion_tokens': 14, 'prompt_tokens': 1306, 'total_tokens': 1320, 'completion_tokens_details': {'accepted_prediction_tokens': 0, 'audio_tokens': 0, 'reasoning_tokens': 0, 'rejected_prediction_tokens': 0}, 'prompt_tokens_details': {'audio_tokens': 0, 'cached_tokens': 1152}}, 'model_name': 'gpt-4o-2024-11-20', 'system_fingerprint': 'fp_ee1d74bde0', 'id': 'chatcmpl-C2073pdB51Y1WA3KI6epmLdZKOWn2', 'service_tier': None, 'prompt_filter_results': [{'prompt_index': 0, 'content_filter_results': {'hate': {'filtered': False, 'severity': 'safe'}, 'jailbreak': {'filtered': False, 'detected': False}, 'self_harm': {'filtered': False, 'severity': 'safe'}, 'sexual': {'filtered': False, 'severity': 'safe'}, 'violence': {'filtered': False, 'severity': 'safe'}}}], 'finish_reason': 'stop', 'logprobs': None, 'content_filter_results': {'hate': {'filtered': False, 'severity': 'safe'}, 'protected_material_code': {'filtered': False, 'detected': False}, 'protected_material_text': {'filtered': False, 'detected': False}, 'self_harm': {'filtered': False, 'severity': 'safe'}, 'sexual': {'filtered': False, 'severity': 'safe'}, 'violence': {'filtered': False, 'severity': 'safe'}}}, id='run--5164c9c2-35a5-4511-8490-7c368d0b150c-0', usage_metadata={'input_tokens': 1306, 'output_tokens': 14, 'total_tokens': 1320, 'input_token_details': {'audio': 0, 'cache_read': 1152}, 'output_token_details': {'audio': 0, 'reasoning': 0}})]}),), interrupts=()),\n",
       " StateSnapshot(values={'messages': []}, next=('__start__',), config={'configurable': {'thread_id': 'user_1', 'checkpoint_ns': '', 'checkpoint_id': '1f073c08-ab87-6c7e-bfff-905e8a22c0fe'}}, metadata={'source': 'input', 'step': -1, 'parents': {}}, created_at='2025-08-07T18:58:44.674665+00:00', parent_config=None, tasks=(PregelTask(id='4cc94ad1-5611-a576-af3c-cba40288e60a', name='__start__', path=('__pregel_pull', '__start__'), error=None, interrupts=(), state=None, result={'messages': ['Hi, my name is Siddharth']}),), interrupts=())]"
      ]
     },
     "execution_count": 35,
     "metadata": {},
     "output_type": "execute_result"
    }
   ],
   "source": [
    "list(graph.get_state_history(config))"
   ]
  },
  {
   "cell_type": "code",
   "execution_count": 36,
   "id": "b2966231",
   "metadata": {},
   "outputs": [],
   "source": [
    "memory.delete_thread(thread_id=thread_id)"
   ]
  },
  {
   "cell_type": "code",
   "execution_count": null,
   "id": "25816c63",
   "metadata": {},
   "outputs": [
    {
     "data": {
      "text/plain": [
       "StateSnapshot(values={}, next=(), config={'configurable': {'thread_id': 'user_1'}}, metadata=None, created_at=None, parent_config=None, tasks=(), interrupts=())"
      ]
     },
     "execution_count": 37,
     "metadata": {},
     "output_type": "execute_result"
    }
   ],
   "source": [
    "graph.get_state(config)\n"
   ]
  },
  {
   "cell_type": "code",
   "execution_count": 41,
   "id": "b8fcf4fb",
   "metadata": {},
   "outputs": [
    {
     "name": "stdout",
     "output_type": "stream",
     "text": [
      "acac366c-0c72-43f6-ad42-fd595f2248ff\n",
      "{'LLMWithTools': {'messages': [AIMessage(content='Hello, Siddharth! How can I assist you today?', additional_kwargs={'refusal': None}, response_metadata={'token_usage': {'completion_tokens': 15, 'prompt_tokens': 1306, 'total_tokens': 1321, 'completion_tokens_details': {'accepted_prediction_tokens': 0, 'audio_tokens': 0, 'reasoning_tokens': 0, 'rejected_prediction_tokens': 0}, 'prompt_tokens_details': {'audio_tokens': 0, 'cached_tokens': 1152}}, 'model_name': 'gpt-4o-2024-11-20', 'system_fingerprint': 'fp_ee1d74bde0', 'id': 'chatcmpl-C20VgA2psa6BIT9fPYkXrINwClusG', 'service_tier': None, 'prompt_filter_results': [{'prompt_index': 0, 'content_filter_results': {'hate': {'filtered': False, 'severity': 'safe'}, 'jailbreak': {'detected': False, 'filtered': False}, 'self_harm': {'filtered': False, 'severity': 'safe'}, 'sexual': {'filtered': False, 'severity': 'safe'}, 'violence': {'filtered': False, 'severity': 'safe'}}}], 'finish_reason': 'stop', 'logprobs': None, 'content_filter_results': {'hate': {'filtered': False, 'severity': 'safe'}, 'protected_material_code': {'filtered': False, 'detected': False}, 'protected_material_text': {'filtered': False, 'detected': False}, 'self_harm': {'filtered': False, 'severity': 'safe'}, 'sexual': {'filtered': False, 'severity': 'safe'}, 'violence': {'filtered': False, 'severity': 'safe'}}}, id='run--0bfb36ea-18ca-4406-a146-d10188ccaf0c-0', usage_metadata={'input_tokens': 1306, 'output_tokens': 15, 'total_tokens': 1321, 'input_token_details': {'audio': 0, 'cache_read': 1152}, 'output_token_details': {'audio': 0, 'reasoning': 0}})]}}\n"
     ]
    }
   ],
   "source": [
    "# Streaming the output \n",
    "thread_id = uuid.uuid4()\n",
    "print(thread_id)\n",
    "config = {\"configurable\": {\"thread_id\": thread_id}}\n",
    "\n",
    "for chunk in graph.stream({\"messages\": [\"Hi, my name is Siddharth\"]}, config=config, stream_mode=\"updates\"):\n",
    "    print(chunk)"
   ]
  },
  {
   "cell_type": "code",
   "execution_count": 42,
   "id": "d9499c8b",
   "metadata": {},
   "outputs": [
    {
     "name": "stdout",
     "output_type": "stream",
     "text": [
      "d0835bf8-c2f6-4f1f-9e56-3cfe18990396\n",
      "{'messages': [HumanMessage(content='Hi, my name is Siddharth', additional_kwargs={}, response_metadata={}, id='39c690a2-f762-4ab8-8d77-bbbd5bdf62c6')]}\n",
      "{'messages': [HumanMessage(content='Hi, my name is Siddharth', additional_kwargs={}, response_metadata={}, id='39c690a2-f762-4ab8-8d77-bbbd5bdf62c6'), AIMessage(content='Hello Siddharth! How can I assist you today? 😊', additional_kwargs={'refusal': None}, response_metadata={'token_usage': {'completion_tokens': 15, 'prompt_tokens': 1306, 'total_tokens': 1321, 'completion_tokens_details': {'accepted_prediction_tokens': 0, 'audio_tokens': 0, 'reasoning_tokens': 0, 'rejected_prediction_tokens': 0}, 'prompt_tokens_details': {'audio_tokens': 0, 'cached_tokens': 0}}, 'model_name': 'gpt-4o-2024-11-20', 'system_fingerprint': 'fp_ee1d74bde0', 'id': 'chatcmpl-C20VqVn2i7x7As3tfIJNVg7RV7boo', 'service_tier': None, 'prompt_filter_results': [{'prompt_index': 0, 'content_filter_results': {'hate': {'filtered': False, 'severity': 'safe'}, 'jailbreak': {'filtered': False, 'detected': False}, 'self_harm': {'filtered': False, 'severity': 'safe'}, 'sexual': {'filtered': False, 'severity': 'safe'}, 'violence': {'filtered': False, 'severity': 'safe'}}}], 'finish_reason': 'stop', 'logprobs': None, 'content_filter_results': {'hate': {'filtered': False, 'severity': 'safe'}, 'protected_material_code': {'filtered': False, 'detected': False}, 'protected_material_text': {'filtered': False, 'detected': False}, 'self_harm': {'filtered': False, 'severity': 'safe'}, 'sexual': {'filtered': False, 'severity': 'safe'}, 'violence': {'filtered': False, 'severity': 'safe'}}}, id='run--8b607d28-b235-4f6c-a022-e00d595842e0-0', usage_metadata={'input_tokens': 1306, 'output_tokens': 15, 'total_tokens': 1321, 'input_token_details': {'audio': 0, 'cache_read': 0}, 'output_token_details': {'audio': 0, 'reasoning': 0}})]}\n"
     ]
    }
   ],
   "source": [
    "thread_id = uuid.uuid4()\n",
    "print(thread_id)\n",
    "config = {\"configurable\": {\"thread_id\": thread_id}}\n",
    "\n",
    "for chunk in graph.stream({\"messages\": [\"Hi, my name is Siddharth\"]}, config=config, stream_mode=\"values\"):\n",
    "    print(chunk)"
   ]
  },
  {
   "cell_type": "code",
   "execution_count": 43,
   "id": "4c57c12e",
   "metadata": {},
   "outputs": [],
   "source": [
    "# If stream_mode=\"updates\", then only last message gets streamed back, \n",
    "# in \"values\", each message which was appended in our history gets streamed\n",
    "# one message at a time"
   ]
  },
  {
   "cell_type": "code",
   "execution_count": 45,
   "id": "8f5d6f02",
   "metadata": {},
   "outputs": [
    {
     "name": "stdout",
     "output_type": "stream",
     "text": [
      "28edbf75-d14e-46bc-8654-9dda7d6afede\n",
      "{'event': 'on_chain_start', 'data': {'input': {'messages': ['Hi, my name is Siddharth']}}, 'name': 'LangGraph', 'tags': [], 'run_id': '3ef21658-3337-4a47-9683-00171a639b51', 'metadata': {}, 'parent_ids': []}\n",
      "{'event': 'on_chain_start', 'data': {'input': {'messages': [HumanMessage(content='Hi, my name is Siddharth', additional_kwargs={}, response_metadata={}, id='8b4bc305-3741-4049-8bce-8c3983a03441')]}}, 'name': 'LLMWithTools', 'tags': ['graph:step:1'], 'run_id': 'c8020ca4-d061-465d-b57a-3103eb8cb769', 'metadata': {'langgraph_step': 1, 'langgraph_node': 'LLMWithTools', 'langgraph_triggers': ('branch:to:LLMWithTools',), 'langgraph_path': ('__pregel_pull', 'LLMWithTools'), 'langgraph_checkpoint_ns': 'LLMWithTools:6c526745-0a9b-49c7-a3f2-1b313617a491'}, 'parent_ids': ['3ef21658-3337-4a47-9683-00171a639b51']}\n",
      "{'event': 'on_chat_model_start', 'data': {'input': {'messages': [[HumanMessage(content='Hi, my name is Siddharth', additional_kwargs={}, response_metadata={}, id='8b4bc305-3741-4049-8bce-8c3983a03441')]]}}, 'name': 'AzureChatOpenAI', 'tags': ['seq:step:1'], 'run_id': '952dafc7-ed25-4673-9aa7-2309d5d57bf4', 'metadata': {'langgraph_step': 1, 'langgraph_node': 'LLMWithTools', 'langgraph_triggers': ('branch:to:LLMWithTools',), 'langgraph_path': ('__pregel_pull', 'LLMWithTools'), 'langgraph_checkpoint_ns': 'LLMWithTools:6c526745-0a9b-49c7-a3f2-1b313617a491', 'checkpoint_ns': 'LLMWithTools:6c526745-0a9b-49c7-a3f2-1b313617a491', 'ls_provider': 'azure', 'ls_model_name': 'gpt-4o', 'ls_model_type': 'chat', 'ls_temperature': 0.7}, 'parent_ids': ['3ef21658-3337-4a47-9683-00171a639b51', 'c8020ca4-d061-465d-b57a-3103eb8cb769']}\n",
      "{'event': 'on_chat_model_stream', 'data': {'chunk': AIMessageChunk(content='', additional_kwargs={}, response_metadata={}, id='run--952dafc7-ed25-4673-9aa7-2309d5d57bf4')}, 'run_id': '952dafc7-ed25-4673-9aa7-2309d5d57bf4', 'name': 'AzureChatOpenAI', 'tags': ['seq:step:1'], 'metadata': {'langgraph_step': 1, 'langgraph_node': 'LLMWithTools', 'langgraph_triggers': ('branch:to:LLMWithTools',), 'langgraph_path': ('__pregel_pull', 'LLMWithTools'), 'langgraph_checkpoint_ns': 'LLMWithTools:6c526745-0a9b-49c7-a3f2-1b313617a491', 'checkpoint_ns': 'LLMWithTools:6c526745-0a9b-49c7-a3f2-1b313617a491', 'ls_provider': 'azure', 'ls_model_name': 'gpt-4o', 'ls_model_type': 'chat', 'ls_temperature': 0.7}, 'parent_ids': ['3ef21658-3337-4a47-9683-00171a639b51', 'c8020ca4-d061-465d-b57a-3103eb8cb769']}\n",
      "{'event': 'on_chat_model_stream', 'data': {'chunk': AIMessageChunk(content='', additional_kwargs={}, response_metadata={}, id='run--952dafc7-ed25-4673-9aa7-2309d5d57bf4')}, 'run_id': '952dafc7-ed25-4673-9aa7-2309d5d57bf4', 'name': 'AzureChatOpenAI', 'tags': ['seq:step:1'], 'metadata': {'langgraph_step': 1, 'langgraph_node': 'LLMWithTools', 'langgraph_triggers': ('branch:to:LLMWithTools',), 'langgraph_path': ('__pregel_pull', 'LLMWithTools'), 'langgraph_checkpoint_ns': 'LLMWithTools:6c526745-0a9b-49c7-a3f2-1b313617a491', 'checkpoint_ns': 'LLMWithTools:6c526745-0a9b-49c7-a3f2-1b313617a491', 'ls_provider': 'azure', 'ls_model_name': 'gpt-4o', 'ls_model_type': 'chat', 'ls_temperature': 0.7}, 'parent_ids': ['3ef21658-3337-4a47-9683-00171a639b51', 'c8020ca4-d061-465d-b57a-3103eb8cb769']}\n",
      "{'event': 'on_chat_model_stream', 'data': {'chunk': AIMessageChunk(content='Hello', additional_kwargs={}, response_metadata={}, id='run--952dafc7-ed25-4673-9aa7-2309d5d57bf4')}, 'run_id': '952dafc7-ed25-4673-9aa7-2309d5d57bf4', 'name': 'AzureChatOpenAI', 'tags': ['seq:step:1'], 'metadata': {'langgraph_step': 1, 'langgraph_node': 'LLMWithTools', 'langgraph_triggers': ('branch:to:LLMWithTools',), 'langgraph_path': ('__pregel_pull', 'LLMWithTools'), 'langgraph_checkpoint_ns': 'LLMWithTools:6c526745-0a9b-49c7-a3f2-1b313617a491', 'checkpoint_ns': 'LLMWithTools:6c526745-0a9b-49c7-a3f2-1b313617a491', 'ls_provider': 'azure', 'ls_model_name': 'gpt-4o', 'ls_model_type': 'chat', 'ls_temperature': 0.7}, 'parent_ids': ['3ef21658-3337-4a47-9683-00171a639b51', 'c8020ca4-d061-465d-b57a-3103eb8cb769']}\n",
      "{'event': 'on_chat_model_stream', 'data': {'chunk': AIMessageChunk(content=',', additional_kwargs={}, response_metadata={}, id='run--952dafc7-ed25-4673-9aa7-2309d5d57bf4')}, 'run_id': '952dafc7-ed25-4673-9aa7-2309d5d57bf4', 'name': 'AzureChatOpenAI', 'tags': ['seq:step:1'], 'metadata': {'langgraph_step': 1, 'langgraph_node': 'LLMWithTools', 'langgraph_triggers': ('branch:to:LLMWithTools',), 'langgraph_path': ('__pregel_pull', 'LLMWithTools'), 'langgraph_checkpoint_ns': 'LLMWithTools:6c526745-0a9b-49c7-a3f2-1b313617a491', 'checkpoint_ns': 'LLMWithTools:6c526745-0a9b-49c7-a3f2-1b313617a491', 'ls_provider': 'azure', 'ls_model_name': 'gpt-4o', 'ls_model_type': 'chat', 'ls_temperature': 0.7}, 'parent_ids': ['3ef21658-3337-4a47-9683-00171a639b51', 'c8020ca4-d061-465d-b57a-3103eb8cb769']}\n",
      "{'event': 'on_chat_model_stream', 'data': {'chunk': AIMessageChunk(content=' Sidd', additional_kwargs={}, response_metadata={}, id='run--952dafc7-ed25-4673-9aa7-2309d5d57bf4')}, 'run_id': '952dafc7-ed25-4673-9aa7-2309d5d57bf4', 'name': 'AzureChatOpenAI', 'tags': ['seq:step:1'], 'metadata': {'langgraph_step': 1, 'langgraph_node': 'LLMWithTools', 'langgraph_triggers': ('branch:to:LLMWithTools',), 'langgraph_path': ('__pregel_pull', 'LLMWithTools'), 'langgraph_checkpoint_ns': 'LLMWithTools:6c526745-0a9b-49c7-a3f2-1b313617a491', 'checkpoint_ns': 'LLMWithTools:6c526745-0a9b-49c7-a3f2-1b313617a491', 'ls_provider': 'azure', 'ls_model_name': 'gpt-4o', 'ls_model_type': 'chat', 'ls_temperature': 0.7}, 'parent_ids': ['3ef21658-3337-4a47-9683-00171a639b51', 'c8020ca4-d061-465d-b57a-3103eb8cb769']}\n",
      "{'event': 'on_chat_model_stream', 'data': {'chunk': AIMessageChunk(content='h', additional_kwargs={}, response_metadata={}, id='run--952dafc7-ed25-4673-9aa7-2309d5d57bf4')}, 'run_id': '952dafc7-ed25-4673-9aa7-2309d5d57bf4', 'name': 'AzureChatOpenAI', 'tags': ['seq:step:1'], 'metadata': {'langgraph_step': 1, 'langgraph_node': 'LLMWithTools', 'langgraph_triggers': ('branch:to:LLMWithTools',), 'langgraph_path': ('__pregel_pull', 'LLMWithTools'), 'langgraph_checkpoint_ns': 'LLMWithTools:6c526745-0a9b-49c7-a3f2-1b313617a491', 'checkpoint_ns': 'LLMWithTools:6c526745-0a9b-49c7-a3f2-1b313617a491', 'ls_provider': 'azure', 'ls_model_name': 'gpt-4o', 'ls_model_type': 'chat', 'ls_temperature': 0.7}, 'parent_ids': ['3ef21658-3337-4a47-9683-00171a639b51', 'c8020ca4-d061-465d-b57a-3103eb8cb769']}\n",
      "{'event': 'on_chat_model_stream', 'data': {'chunk': AIMessageChunk(content='arth', additional_kwargs={}, response_metadata={}, id='run--952dafc7-ed25-4673-9aa7-2309d5d57bf4')}, 'run_id': '952dafc7-ed25-4673-9aa7-2309d5d57bf4', 'name': 'AzureChatOpenAI', 'tags': ['seq:step:1'], 'metadata': {'langgraph_step': 1, 'langgraph_node': 'LLMWithTools', 'langgraph_triggers': ('branch:to:LLMWithTools',), 'langgraph_path': ('__pregel_pull', 'LLMWithTools'), 'langgraph_checkpoint_ns': 'LLMWithTools:6c526745-0a9b-49c7-a3f2-1b313617a491', 'checkpoint_ns': 'LLMWithTools:6c526745-0a9b-49c7-a3f2-1b313617a491', 'ls_provider': 'azure', 'ls_model_name': 'gpt-4o', 'ls_model_type': 'chat', 'ls_temperature': 0.7}, 'parent_ids': ['3ef21658-3337-4a47-9683-00171a639b51', 'c8020ca4-d061-465d-b57a-3103eb8cb769']}\n",
      "{'event': 'on_chat_model_stream', 'data': {'chunk': AIMessageChunk(content='!', additional_kwargs={}, response_metadata={}, id='run--952dafc7-ed25-4673-9aa7-2309d5d57bf4')}, 'run_id': '952dafc7-ed25-4673-9aa7-2309d5d57bf4', 'name': 'AzureChatOpenAI', 'tags': ['seq:step:1'], 'metadata': {'langgraph_step': 1, 'langgraph_node': 'LLMWithTools', 'langgraph_triggers': ('branch:to:LLMWithTools',), 'langgraph_path': ('__pregel_pull', 'LLMWithTools'), 'langgraph_checkpoint_ns': 'LLMWithTools:6c526745-0a9b-49c7-a3f2-1b313617a491', 'checkpoint_ns': 'LLMWithTools:6c526745-0a9b-49c7-a3f2-1b313617a491', 'ls_provider': 'azure', 'ls_model_name': 'gpt-4o', 'ls_model_type': 'chat', 'ls_temperature': 0.7}, 'parent_ids': ['3ef21658-3337-4a47-9683-00171a639b51', 'c8020ca4-d061-465d-b57a-3103eb8cb769']}\n",
      "{'event': 'on_chat_model_stream', 'data': {'chunk': AIMessageChunk(content=' How', additional_kwargs={}, response_metadata={}, id='run--952dafc7-ed25-4673-9aa7-2309d5d57bf4')}, 'run_id': '952dafc7-ed25-4673-9aa7-2309d5d57bf4', 'name': 'AzureChatOpenAI', 'tags': ['seq:step:1'], 'metadata': {'langgraph_step': 1, 'langgraph_node': 'LLMWithTools', 'langgraph_triggers': ('branch:to:LLMWithTools',), 'langgraph_path': ('__pregel_pull', 'LLMWithTools'), 'langgraph_checkpoint_ns': 'LLMWithTools:6c526745-0a9b-49c7-a3f2-1b313617a491', 'checkpoint_ns': 'LLMWithTools:6c526745-0a9b-49c7-a3f2-1b313617a491', 'ls_provider': 'azure', 'ls_model_name': 'gpt-4o', 'ls_model_type': 'chat', 'ls_temperature': 0.7}, 'parent_ids': ['3ef21658-3337-4a47-9683-00171a639b51', 'c8020ca4-d061-465d-b57a-3103eb8cb769']}\n",
      "{'event': 'on_chat_model_stream', 'data': {'chunk': AIMessageChunk(content=' can', additional_kwargs={}, response_metadata={}, id='run--952dafc7-ed25-4673-9aa7-2309d5d57bf4')}, 'run_id': '952dafc7-ed25-4673-9aa7-2309d5d57bf4', 'name': 'AzureChatOpenAI', 'tags': ['seq:step:1'], 'metadata': {'langgraph_step': 1, 'langgraph_node': 'LLMWithTools', 'langgraph_triggers': ('branch:to:LLMWithTools',), 'langgraph_path': ('__pregel_pull', 'LLMWithTools'), 'langgraph_checkpoint_ns': 'LLMWithTools:6c526745-0a9b-49c7-a3f2-1b313617a491', 'checkpoint_ns': 'LLMWithTools:6c526745-0a9b-49c7-a3f2-1b313617a491', 'ls_provider': 'azure', 'ls_model_name': 'gpt-4o', 'ls_model_type': 'chat', 'ls_temperature': 0.7}, 'parent_ids': ['3ef21658-3337-4a47-9683-00171a639b51', 'c8020ca4-d061-465d-b57a-3103eb8cb769']}\n",
      "{'event': 'on_chat_model_stream', 'data': {'chunk': AIMessageChunk(content=' I', additional_kwargs={}, response_metadata={}, id='run--952dafc7-ed25-4673-9aa7-2309d5d57bf4')}, 'run_id': '952dafc7-ed25-4673-9aa7-2309d5d57bf4', 'name': 'AzureChatOpenAI', 'tags': ['seq:step:1'], 'metadata': {'langgraph_step': 1, 'langgraph_node': 'LLMWithTools', 'langgraph_triggers': ('branch:to:LLMWithTools',), 'langgraph_path': ('__pregel_pull', 'LLMWithTools'), 'langgraph_checkpoint_ns': 'LLMWithTools:6c526745-0a9b-49c7-a3f2-1b313617a491', 'checkpoint_ns': 'LLMWithTools:6c526745-0a9b-49c7-a3f2-1b313617a491', 'ls_provider': 'azure', 'ls_model_name': 'gpt-4o', 'ls_model_type': 'chat', 'ls_temperature': 0.7}, 'parent_ids': ['3ef21658-3337-4a47-9683-00171a639b51', 'c8020ca4-d061-465d-b57a-3103eb8cb769']}\n",
      "{'event': 'on_chat_model_stream', 'data': {'chunk': AIMessageChunk(content=' assist', additional_kwargs={}, response_metadata={}, id='run--952dafc7-ed25-4673-9aa7-2309d5d57bf4')}, 'run_id': '952dafc7-ed25-4673-9aa7-2309d5d57bf4', 'name': 'AzureChatOpenAI', 'tags': ['seq:step:1'], 'metadata': {'langgraph_step': 1, 'langgraph_node': 'LLMWithTools', 'langgraph_triggers': ('branch:to:LLMWithTools',), 'langgraph_path': ('__pregel_pull', 'LLMWithTools'), 'langgraph_checkpoint_ns': 'LLMWithTools:6c526745-0a9b-49c7-a3f2-1b313617a491', 'checkpoint_ns': 'LLMWithTools:6c526745-0a9b-49c7-a3f2-1b313617a491', 'ls_provider': 'azure', 'ls_model_name': 'gpt-4o', 'ls_model_type': 'chat', 'ls_temperature': 0.7}, 'parent_ids': ['3ef21658-3337-4a47-9683-00171a639b51', 'c8020ca4-d061-465d-b57a-3103eb8cb769']}\n",
      "{'event': 'on_chat_model_stream', 'data': {'chunk': AIMessageChunk(content=' you', additional_kwargs={}, response_metadata={}, id='run--952dafc7-ed25-4673-9aa7-2309d5d57bf4')}, 'run_id': '952dafc7-ed25-4673-9aa7-2309d5d57bf4', 'name': 'AzureChatOpenAI', 'tags': ['seq:step:1'], 'metadata': {'langgraph_step': 1, 'langgraph_node': 'LLMWithTools', 'langgraph_triggers': ('branch:to:LLMWithTools',), 'langgraph_path': ('__pregel_pull', 'LLMWithTools'), 'langgraph_checkpoint_ns': 'LLMWithTools:6c526745-0a9b-49c7-a3f2-1b313617a491', 'checkpoint_ns': 'LLMWithTools:6c526745-0a9b-49c7-a3f2-1b313617a491', 'ls_provider': 'azure', 'ls_model_name': 'gpt-4o', 'ls_model_type': 'chat', 'ls_temperature': 0.7}, 'parent_ids': ['3ef21658-3337-4a47-9683-00171a639b51', 'c8020ca4-d061-465d-b57a-3103eb8cb769']}\n",
      "{'event': 'on_chat_model_stream', 'data': {'chunk': AIMessageChunk(content=' today', additional_kwargs={}, response_metadata={}, id='run--952dafc7-ed25-4673-9aa7-2309d5d57bf4')}, 'run_id': '952dafc7-ed25-4673-9aa7-2309d5d57bf4', 'name': 'AzureChatOpenAI', 'tags': ['seq:step:1'], 'metadata': {'langgraph_step': 1, 'langgraph_node': 'LLMWithTools', 'langgraph_triggers': ('branch:to:LLMWithTools',), 'langgraph_path': ('__pregel_pull', 'LLMWithTools'), 'langgraph_checkpoint_ns': 'LLMWithTools:6c526745-0a9b-49c7-a3f2-1b313617a491', 'checkpoint_ns': 'LLMWithTools:6c526745-0a9b-49c7-a3f2-1b313617a491', 'ls_provider': 'azure', 'ls_model_name': 'gpt-4o', 'ls_model_type': 'chat', 'ls_temperature': 0.7}, 'parent_ids': ['3ef21658-3337-4a47-9683-00171a639b51', 'c8020ca4-d061-465d-b57a-3103eb8cb769']}\n",
      "{'event': 'on_chat_model_stream', 'data': {'chunk': AIMessageChunk(content='?', additional_kwargs={}, response_metadata={}, id='run--952dafc7-ed25-4673-9aa7-2309d5d57bf4')}, 'run_id': '952dafc7-ed25-4673-9aa7-2309d5d57bf4', 'name': 'AzureChatOpenAI', 'tags': ['seq:step:1'], 'metadata': {'langgraph_step': 1, 'langgraph_node': 'LLMWithTools', 'langgraph_triggers': ('branch:to:LLMWithTools',), 'langgraph_path': ('__pregel_pull', 'LLMWithTools'), 'langgraph_checkpoint_ns': 'LLMWithTools:6c526745-0a9b-49c7-a3f2-1b313617a491', 'checkpoint_ns': 'LLMWithTools:6c526745-0a9b-49c7-a3f2-1b313617a491', 'ls_provider': 'azure', 'ls_model_name': 'gpt-4o', 'ls_model_type': 'chat', 'ls_temperature': 0.7}, 'parent_ids': ['3ef21658-3337-4a47-9683-00171a639b51', 'c8020ca4-d061-465d-b57a-3103eb8cb769']}\n",
      "{'event': 'on_chat_model_stream', 'data': {'chunk': AIMessageChunk(content='', additional_kwargs={}, response_metadata={'finish_reason': 'stop', 'model_name': 'gpt-4o-2024-11-20', 'system_fingerprint': 'fp_ee1d74bde0'}, id='run--952dafc7-ed25-4673-9aa7-2309d5d57bf4')}, 'run_id': '952dafc7-ed25-4673-9aa7-2309d5d57bf4', 'name': 'AzureChatOpenAI', 'tags': ['seq:step:1'], 'metadata': {'langgraph_step': 1, 'langgraph_node': 'LLMWithTools', 'langgraph_triggers': ('branch:to:LLMWithTools',), 'langgraph_path': ('__pregel_pull', 'LLMWithTools'), 'langgraph_checkpoint_ns': 'LLMWithTools:6c526745-0a9b-49c7-a3f2-1b313617a491', 'checkpoint_ns': 'LLMWithTools:6c526745-0a9b-49c7-a3f2-1b313617a491', 'ls_provider': 'azure', 'ls_model_name': 'gpt-4o', 'ls_model_type': 'chat', 'ls_temperature': 0.7}, 'parent_ids': ['3ef21658-3337-4a47-9683-00171a639b51', 'c8020ca4-d061-465d-b57a-3103eb8cb769']}\n",
      "{'event': 'on_chat_model_end', 'data': {'output': AIMessage(content='Hello, Siddharth! How can I assist you today?', additional_kwargs={}, response_metadata={'finish_reason': 'stop', 'model_name': 'gpt-4o-2024-11-20', 'system_fingerprint': 'fp_ee1d74bde0'}, id='run--952dafc7-ed25-4673-9aa7-2309d5d57bf4'), 'input': {'messages': [[HumanMessage(content='Hi, my name is Siddharth', additional_kwargs={}, response_metadata={}, id='8b4bc305-3741-4049-8bce-8c3983a03441')]]}}, 'run_id': '952dafc7-ed25-4673-9aa7-2309d5d57bf4', 'name': 'AzureChatOpenAI', 'tags': ['seq:step:1'], 'metadata': {'langgraph_step': 1, 'langgraph_node': 'LLMWithTools', 'langgraph_triggers': ('branch:to:LLMWithTools',), 'langgraph_path': ('__pregel_pull', 'LLMWithTools'), 'langgraph_checkpoint_ns': 'LLMWithTools:6c526745-0a9b-49c7-a3f2-1b313617a491', 'checkpoint_ns': 'LLMWithTools:6c526745-0a9b-49c7-a3f2-1b313617a491', 'ls_provider': 'azure', 'ls_model_name': 'gpt-4o', 'ls_model_type': 'chat', 'ls_temperature': 0.7}, 'parent_ids': ['3ef21658-3337-4a47-9683-00171a639b51', 'c8020ca4-d061-465d-b57a-3103eb8cb769']}\n",
      "{'event': 'on_chain_start', 'data': {'input': {'messages': [HumanMessage(content='Hi, my name is Siddharth', additional_kwargs={}, response_metadata={}, id='8b4bc305-3741-4049-8bce-8c3983a03441'), AIMessage(content='Hello, Siddharth! How can I assist you today?', additional_kwargs={}, response_metadata={'finish_reason': 'stop', 'model_name': 'gpt-4o-2024-11-20', 'system_fingerprint': 'fp_ee1d74bde0'}, id='run--952dafc7-ed25-4673-9aa7-2309d5d57bf4')]}}, 'name': 'tools_condition', 'tags': ['seq:step:3'], 'run_id': '76e8070f-3aa1-4420-8457-f992a997b04c', 'metadata': {'langgraph_step': 1, 'langgraph_node': 'LLMWithTools', 'langgraph_triggers': ('branch:to:LLMWithTools',), 'langgraph_path': ('__pregel_pull', 'LLMWithTools'), 'langgraph_checkpoint_ns': 'LLMWithTools:6c526745-0a9b-49c7-a3f2-1b313617a491'}, 'parent_ids': ['3ef21658-3337-4a47-9683-00171a639b51', 'c8020ca4-d061-465d-b57a-3103eb8cb769']}\n",
      "{'event': 'on_chain_end', 'data': {'output': '__end__', 'input': {'messages': [HumanMessage(content='Hi, my name is Siddharth', additional_kwargs={}, response_metadata={}, id='8b4bc305-3741-4049-8bce-8c3983a03441'), AIMessage(content='Hello, Siddharth! How can I assist you today?', additional_kwargs={}, response_metadata={'finish_reason': 'stop', 'model_name': 'gpt-4o-2024-11-20', 'system_fingerprint': 'fp_ee1d74bde0'}, id='run--952dafc7-ed25-4673-9aa7-2309d5d57bf4')]}}, 'run_id': '76e8070f-3aa1-4420-8457-f992a997b04c', 'name': 'tools_condition', 'tags': ['seq:step:3'], 'metadata': {'langgraph_step': 1, 'langgraph_node': 'LLMWithTools', 'langgraph_triggers': ('branch:to:LLMWithTools',), 'langgraph_path': ('__pregel_pull', 'LLMWithTools'), 'langgraph_checkpoint_ns': 'LLMWithTools:6c526745-0a9b-49c7-a3f2-1b313617a491'}, 'parent_ids': ['3ef21658-3337-4a47-9683-00171a639b51', 'c8020ca4-d061-465d-b57a-3103eb8cb769']}\n",
      "{'event': 'on_chain_stream', 'run_id': 'c8020ca4-d061-465d-b57a-3103eb8cb769', 'name': 'LLMWithTools', 'tags': ['graph:step:1'], 'metadata': {'langgraph_step': 1, 'langgraph_node': 'LLMWithTools', 'langgraph_triggers': ('branch:to:LLMWithTools',), 'langgraph_path': ('__pregel_pull', 'LLMWithTools'), 'langgraph_checkpoint_ns': 'LLMWithTools:6c526745-0a9b-49c7-a3f2-1b313617a491'}, 'data': {'chunk': {'messages': [AIMessage(content='Hello, Siddharth! How can I assist you today?', additional_kwargs={}, response_metadata={'finish_reason': 'stop', 'model_name': 'gpt-4o-2024-11-20', 'system_fingerprint': 'fp_ee1d74bde0'}, id='run--952dafc7-ed25-4673-9aa7-2309d5d57bf4')]}}, 'parent_ids': ['3ef21658-3337-4a47-9683-00171a639b51']}\n",
      "{'event': 'on_chain_end', 'data': {'output': {'messages': [AIMessage(content='Hello, Siddharth! How can I assist you today?', additional_kwargs={}, response_metadata={'finish_reason': 'stop', 'model_name': 'gpt-4o-2024-11-20', 'system_fingerprint': 'fp_ee1d74bde0'}, id='run--952dafc7-ed25-4673-9aa7-2309d5d57bf4')]}, 'input': {'messages': [HumanMessage(content='Hi, my name is Siddharth', additional_kwargs={}, response_metadata={}, id='8b4bc305-3741-4049-8bce-8c3983a03441')]}}, 'run_id': 'c8020ca4-d061-465d-b57a-3103eb8cb769', 'name': 'LLMWithTools', 'tags': ['graph:step:1'], 'metadata': {'langgraph_step': 1, 'langgraph_node': 'LLMWithTools', 'langgraph_triggers': ('branch:to:LLMWithTools',), 'langgraph_path': ('__pregel_pull', 'LLMWithTools'), 'langgraph_checkpoint_ns': 'LLMWithTools:6c526745-0a9b-49c7-a3f2-1b313617a491'}, 'parent_ids': ['3ef21658-3337-4a47-9683-00171a639b51']}\n",
      "{'event': 'on_chain_stream', 'run_id': '3ef21658-3337-4a47-9683-00171a639b51', 'name': 'LangGraph', 'tags': [], 'metadata': {}, 'data': {'chunk': {'LLMWithTools': {'messages': [AIMessage(content='Hello, Siddharth! How can I assist you today?', additional_kwargs={}, response_metadata={'finish_reason': 'stop', 'model_name': 'gpt-4o-2024-11-20', 'system_fingerprint': 'fp_ee1d74bde0'}, id='run--952dafc7-ed25-4673-9aa7-2309d5d57bf4')]}}}, 'parent_ids': []}\n",
      "{'event': 'on_chain_end', 'data': {'output': {'messages': [HumanMessage(content='Hi, my name is Siddharth', additional_kwargs={}, response_metadata={}, id='8b4bc305-3741-4049-8bce-8c3983a03441'), AIMessage(content='Hello, Siddharth! How can I assist you today?', additional_kwargs={}, response_metadata={'finish_reason': 'stop', 'model_name': 'gpt-4o-2024-11-20', 'system_fingerprint': 'fp_ee1d74bde0'}, id='run--952dafc7-ed25-4673-9aa7-2309d5d57bf4')]}}, 'run_id': '3ef21658-3337-4a47-9683-00171a639b51', 'name': 'LangGraph', 'tags': [], 'metadata': {}, 'parent_ids': []}\n"
     ]
    }
   ],
   "source": [
    "# Async streaming\n",
    "thread_id = uuid.uuid4()\n",
    "print(thread_id)\n",
    "config = {\"configurable\": {\"thread_id\": thread_id}}\n",
    "\n",
    "async for chunk in graph.astream_events({\"messages\": [\"Hi, my name is Siddharth\"]}, config=config):\n",
    "    print(chunk)"
   ]
  },
  {
   "cell_type": "code",
   "execution_count": 48,
   "id": "e864d43a",
   "metadata": {},
   "outputs": [
    {
     "data": {
      "text/plain": [
       "<langgraph.graph.state.StateGraph at 0x117ee70b0>"
      ]
     },
     "execution_count": 48,
     "metadata": {},
     "output_type": "execute_result"
    }
   ],
   "source": [
    "# Human-in-the-loop - Human feedback in our graph\n",
    "\n",
    "graph_builder = StateGraph(State)\n",
    "\n",
    "@tool\n",
    "def human_assistance_tool(query: str) -> str:\n",
    "    \"\"\"Request assistance from a human.\"\"\"\n",
    "    human_response = interrupt({\"query\": query})\n",
    "    return human_response[\"data\"]\n",
    "\n",
    "tool = TavilySearch(max_results=2)\n",
    "tools = [search_tool, multiply_tool, human_assistance_tool]\n",
    "llm_with_tools = model.bind_tools(tools)\n",
    "\n",
    "def model_with_tools_function(input_state: State):\n",
    "    return {\"messages\": [\n",
    "        llm_with_tools.invoke(input_state[\"messages\"])\n",
    "    ]}\n",
    "\n",
    "\n",
    "graph_builder.add_node(\"LLMWithTools\", model_with_tools_function)\n",
    "graph_builder.add_node(\"tools\", ToolNode(tools)) # we have prebuilt node (no need to create a function and reference here)\n",
    "\n",
    "\n",
    "graph_builder.add_edge(START, \"LLMWithTools\")\n",
    "graph_builder.add_conditional_edges(\n",
    "    \"LLMWithTools\",\n",
    "    # If the latest message (result) from assistant is a tool call -> tools_condition routes to tools\n",
    "    # If the latest message (result) from assistant is a not a tool call -> tools_condition routes to END\n",
    "    tools_condition # I can even add my own callable with custom logic\n",
    ")\n",
    "graph_builder.add_edge(\"tools\", \"LLMWithTools\")\n",
    "graph_builder.add_edge(\"LLMWithTools\", END)"
   ]
  },
  {
   "cell_type": "code",
   "execution_count": 50,
   "id": "d72baf9c",
   "metadata": {},
   "outputs": [],
   "source": [
    "memory = MemorySaver() # creating a new memory\n",
    "thread_id = uuid.uuid4()\n",
    "graph = graph_builder.compile(checkpointer=memory)\n",
    "config = {\"configurable\": {\"thread_id\": thread_id}}"
   ]
  },
  {
   "cell_type": "code",
   "execution_count": 51,
   "id": "95af1065",
   "metadata": {},
   "outputs": [
    {
     "data": {
      "image/png": "[encoded data removed]",
      "text/plain": [
       "<IPython.core.display.Image object>"
      ]
     },
     "metadata": {},
     "output_type": "display_data"
    }
   ],
   "source": [
    "try:\n",
    "    display(Image(graph.get_graph().draw_mermaid_png()))\n",
    "except Exception as e:\n",
    "    print(f\"Error occurred: {e}\")"
   ]
  },
  {
   "cell_type": "code",
   "execution_count": 52,
   "id": "320b0e5e",
   "metadata": {},
   "outputs": [
    {
     "data": {
      "text/plain": [
       "{'messages': [HumanMessage(content='I need some expert guidance and assistance for building an AI agent. Could you request assistance for me?', additional_kwargs={}, response_metadata={}, id='422be119-86bd-47e1-8a5a-b67daf8de86f'),\n",
       "  AIMessage(content='', additional_kwargs={'tool_calls': [{'id': 'call_lXzsiyoAIoJv2YxWC5BKZHb5', 'function': {'arguments': '{\"query\":\"I need expert guidance and assistance for building an AI agent. Can you help?\"}', 'name': 'human_assistance_tool'}, 'type': 'function'}], 'refusal': None}, response_metadata={'token_usage': {'completion_tokens': 33, 'prompt_tokens': 1340, 'total_tokens': 1373, 'completion_tokens_details': {'accepted_prediction_tokens': 0, 'audio_tokens': 0, 'reasoning_tokens': 0, 'rejected_prediction_tokens': 0}, 'prompt_tokens_details': {'audio_tokens': 0, 'cached_tokens': 0}}, 'model_name': 'gpt-4o-2024-11-20', 'system_fingerprint': 'fp_ee1d74bde0', 'id': 'chatcmpl-C20mTgEbT1u4FNrx8kEJPZtR7ZEuv', 'service_tier': None, 'prompt_filter_results': [{'prompt_index': 0, 'content_filter_results': {'hate': {'filtered': False, 'severity': 'safe'}, 'jailbreak': {'filtered': False, 'detected': False}, 'self_harm': {'filtered': False, 'severity': 'safe'}, 'sexual': {'filtered': False, 'severity': 'safe'}, 'violence': {'filtered': False, 'severity': 'safe'}}}], 'finish_reason': 'tool_calls', 'logprobs': None, 'content_filter_results': {}}, id='run--143721c1-f3eb-46ef-8e36-fd11e8e1bc91-0', tool_calls=[{'name': 'human_assistance_tool', 'args': {'query': 'I need expert guidance and assistance for building an AI agent. Can you help?'}, 'id': 'call_lXzsiyoAIoJv2YxWC5BKZHb5', 'type': 'tool_call'}], usage_metadata={'input_tokens': 1340, 'output_tokens': 33, 'total_tokens': 1373, 'input_token_details': {'audio': 0, 'cache_read': 0}, 'output_token_details': {'audio': 0, 'reasoning': 0}})],\n",
       " '__interrupt__': [Interrupt(value={'query': 'I need expert guidance and assistance for building an AI agent. Can you help?'}, id='3be3968f03efd3dd53c0eeea6f8846eb')]}"
      ]
     },
     "execution_count": 52,
     "metadata": {},
     "output_type": "execute_result"
    }
   ],
   "source": [
    "chat = graph.invoke({\"messages\": [\n",
    "    \"I need some expert guidance and assistance for building an AI agent. Could you request assistance for me?\"\n",
    "]}, config=config)\n",
    "chat"
   ]
  },
  {
   "cell_type": "code",
   "execution_count": 53,
   "id": "61bf80d8",
   "metadata": {},
   "outputs": [
    {
     "name": "stdout",
     "output_type": "stream",
     "text": [
      "==================================\u001b[1m Ai Message \u001b[0m==================================\n",
      "Tool Calls:\n",
      "  human_assistance_tool (call_lXzsiyoAIoJv2YxWC5BKZHb5)\n",
      " Call ID: call_lXzsiyoAIoJv2YxWC5BKZHb5\n",
      "  Args:\n",
      "    query: I need expert guidance and assistance for building an AI agent. Can you help?\n",
      "=================================\u001b[1m Tool Message \u001b[0m=================================\n",
      "Name: human_assistance_tool\n",
      "\n",
      "We, the experts are here to help! We'd recommend you check out LangGraph to build your agent. It's much more reliable and extensible than simple autonomous agents.\n",
      "==================================\u001b[1m Ai Message \u001b[0m==================================\n",
      "\n",
      "The experts recommend using LangGraph for building your AI agent, as it is reliable and extensible compared to simple autonomous agents. Let me know if you need more details or further assistance!\n"
     ]
    }
   ],
   "source": [
    "human_response = (\n",
    "    \"We, the experts are here to help! We'd recommend you check out LangGraph to build your agent.\"\n",
    "    \" It's much more reliable and extensible than simple autonomous agents.\"\n",
    ")\n",
    "\n",
    "human_command = Command(resume={\"data\": human_response})\n",
    "\n",
    "events = graph.stream(human_command, config, stream_mode=\"values\")\n",
    "for event in events:\n",
    "    if \"messages\" in event:\n",
    "        event[\"messages\"][-1].pretty_print()"
   ]
  },
  {
   "cell_type": "code",
   "execution_count": null,
   "id": "0c456810",
   "metadata": {},
   "outputs": [],
   "source": []
  },
  {
   "cell_type": "code",
   "execution_count": null,
   "id": "b9a16fff",
   "metadata": {},
   "outputs": [],
   "source": []
  }
 ],
 "metadata": {
  "kernelspec": {
   "display_name": ".venv",
   "language": "python",
   "name": "python3"
  },
  "language_info": {
   "codemirror_mode": {
    "name": "ipython",
    "version": 3
   },
   "file_extension": ".py",
   "mimetype": "text/x-python",
   "name": "python",
   "nbconvert_exporter": "python",
   "pygments_lexer": "ipython3",
   "version": "3.12.7"
  }
 },
 "nbformat": 4,
 "nbformat_minor": 5
}
